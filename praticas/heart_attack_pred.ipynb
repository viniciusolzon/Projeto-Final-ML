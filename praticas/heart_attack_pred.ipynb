{
 "cells": [
  {
   "cell_type": "markdown",
   "metadata": {
    "colab_type": "text",
    "id": "9e7ogRxDNwgo"
   },
   "source": [
    "# <font color=\"darkblue\"> Prática 01: Classificação binária com Redes Neurais </font>"
   ]
  },
  {
   "cell_type": "markdown",
   "metadata": {
    "colab_type": "text",
    "id": "ThCpNU_qN5va"
   },
   "source": [
    "**Objetivos:**\n",
    "\n",
    "\n",
    "*   Utilizar a API Keras para classificação binária com redes neurais."
   ]
  },
  {
   "cell_type": "markdown",
   "metadata": {
    "colab_type": "text",
    "id": "w0NSTxPQOSle"
   },
   "source": [
    "**Descrição:**\n",
    "\n",
    "Com base em informações fornecidadas de 303 pessoas, as quais incluem idade, pressão arterial, nível de colesterol, frequência cardíaca, entre outros, crie uma rede neural para prever as chances de indivíduo ter um um infarto. Implemente as células cujos labels indicadores estão em vermelho.  "
   ]
  },
  {
   "cell_type": "markdown",
   "metadata": {
    "colab_type": "text",
    "id": "uqvZm3MTOc_z"
   },
   "source": [
    "# <font color=\"darkblue\"> Solução </font>"
   ]
  },
  {
   "cell_type": "markdown",
   "metadata": {},
   "source": [
    "### Bibliotecas"
   ]
  },
  {
   "cell_type": "code",
   "execution_count": null,
   "metadata": {},
   "outputs": [],
   "source": [
    "import sys\n",
    "import pandas as pd\n",
    "import numpy as np\n",
    "import sklearn\n",
    "import matplotlib\n",
    "import keras\n",
    "\n",
    "print('Python: {}'.format(sys.version))\n",
    "print('Pandas: {}'.format(pd.__version__))\n",
    "print('Numpy: {}'.format(np.__version__))\n",
    "print('Sklearn: {}'.format(sklearn.__version__))\n",
    "print('Matplotlib: {}'.format(matplotlib.__version__))\n",
    "print('Keras: {}'.format(keras.__version__))"
   ]
  },
  {
   "cell_type": "markdown",
   "metadata": {
    "colab_type": "text",
    "id": "e2LR0BZzl16O"
   },
   "source": [
    "### Leitura das instâncias"
   ]
  },
  {
   "cell_type": "code",
   "execution_count": null,
   "metadata": {
    "colab": {},
    "colab_type": "code",
    "executionInfo": {
     "elapsed": 1246,
     "status": "ok",
     "timestamp": 1600457374495,
     "user": {
      "displayName": "Bruno Pessoa",
      "photoUrl": "",
      "userId": "11515750209403097426"
     },
     "user_tz": 180
    },
    "id": "seXma1z5cbae"
   },
   "outputs": [],
   "source": [
    "data = pd.read_csv(\"heart.csv\")\n",
    "\n",
    "X = np.array(data.drop(['output'], axis=1))\n",
    "y = np.array(data['output'])"
   ]
  },
  {
   "cell_type": "markdown",
   "metadata": {},
   "source": [
    "### Explorando os dados"
   ]
  },
  {
   "cell_type": "code",
   "execution_count": null,
   "metadata": {
    "colab": {},
    "colab_type": "code",
    "id": "575q8CHP8rQU"
   },
   "outputs": [],
   "source": [
    "import matplotlib.pyplot as plt\n",
    "from pandas.plotting import scatter_matrix\n",
    "import seaborn as sns\n",
    "\n",
    "print(f\"Shape: {data.shape}\")\n",
    "data.head()"
   ]
  },
  {
   "cell_type": "code",
   "execution_count": null,
   "metadata": {
    "scrolled": true
   },
   "outputs": [],
   "source": [
    "plt.figure(figsize=(10,10))\n",
    "sns.heatmap(data.corr(), annot=True, fmt='.1f')\n",
    "plt.show()"
   ]
  },
  {
   "cell_type": "markdown",
   "metadata": {
    "colab_type": "text",
    "id": "ZVOgWGyHlxWk"
   },
   "source": [
    "### Criando a rede neural"
   ]
  },
  {
   "cell_type": "code",
   "execution_count": null,
   "metadata": {
    "colab": {},
    "colab_type": "code",
    "executionInfo": {
     "elapsed": 703,
     "status": "ok",
     "timestamp": 1600457413812,
     "user": {
      "displayName": "Bruno Pessoa",
      "photoUrl": "",
      "userId": "11515750209403097426"
     },
     "user_tz": 180
    },
    "id": "Zi1KD8GZmwZw",
    "scrolled": true
   },
   "outputs": [],
   "source": [
    "from keras.models import Sequential\n",
    "from keras.layers import Dense\n",
    "from keras import optimizers\n",
    "from sklearn import model_selection\n",
    "from keras import regularizers\n",
    "\n",
    "X_train, X_test, y_train, y_test = model_selection.train_test_split(X, y, random_state=2, test_size=0.2)\n",
    "\n",
    "# Criando a arquitetura da rede neural\n",
    "model = Sequential()\n",
    "\n",
    "# Rede configurada a partir de informações da dimensão VC e da regra de ouro\n",
    "model.add(Dense(5, input_dim=13, kernel_initializer='normal', activation='tanh'))\n",
    "model.add(Dense(1, kernel_initializer='normal', activation='sigmoid'))\n",
    "\n",
    "# Instanciação e configuração de otimizadores\n",
    "sgd = optimizers.SGD(learning_rate=0.01)\n",
    "\n",
    "# Compila o modelo. O otimizador escolhido foi o Adam com os parâmetros default\n",
    "model.compile(loss='binary_crossentropy', optimizer=\"sgd\", metrics=['accuracy'])\n",
    "\n",
    "print(model.summary())"
   ]
  },
  {
   "cell_type": "markdown",
   "metadata": {},
   "source": [
    "### Treinando a rede neural"
   ]
  },
  {
   "cell_type": "code",
   "execution_count": null,
   "metadata": {
    "scrolled": false
   },
   "outputs": [],
   "source": [
    "BATCH_SIZE = 16\n",
    "history = model.fit(X_train, y_train, epochs=50, batch_size=BATCH_SIZE)"
   ]
  },
  {
   "cell_type": "markdown",
   "metadata": {
    "colab_type": "text",
    "id": "4xo9tf15lzwC"
   },
   "source": [
    "### Performance do modelo"
   ]
  },
  {
   "cell_type": "code",
   "execution_count": null,
   "metadata": {
    "colab": {
     "base_uri": "https://localhost:8080/",
     "height": 34
    },
    "colab_type": "code",
    "executionInfo": {
     "elapsed": 696,
     "status": "ok",
     "timestamp": 1600457574357,
     "user": {
      "displayName": "Bruno Pessoa",
      "photoUrl": "",
      "userId": "11515750209403097426"
     },
     "user_tz": 180
    },
    "id": "nUDkmrD0m9xL",
    "outputId": "b490a800-89bc-43dc-867d-bbeac974c42f"
   },
   "outputs": [],
   "source": [
    "from sklearn.metrics import accuracy_score\n",
    "\n",
    "plt.plot(history.history['loss'])\n",
    "plt.title('Metrica de erro')\n",
    "plt.ylabel('Erro')\n",
    "plt.xlabel('Epoca')\n",
    "plt.legend(['Treinamento'])\n",
    "plt.show()\n",
    "\n",
    "pred = np.round(model.predict(X_train, batch_size=BATCH_SIZE))\n",
    "acc_train = accuracy_score(y_train, pred)\n",
    "print(f'--> Acuracia (treino): {acc_train:.4f}')\n",
    "\n",
    "pred = np.round(model.predict(X_test))\n",
    "acc_test = accuracy_score(y_test, pred)\n",
    "print(f'--> Acuracia (teste): {acc_test:.4f}')\n",
    "\n",
    "print(f'\\nE_out - E_in = {acc_train - acc_test:.4f}')"
   ]
  },
  {
   "cell_type": "markdown",
   "metadata": {},
   "source": [
    "<span style=\"color:red; font-size: 18px; font-weight: bold;\">Criando uma rede neural de acordo com a teoria da Dimensão VC</span>"
   ]
  },
  {
   "cell_type": "code",
   "execution_count": null,
   "metadata": {},
   "outputs": [],
   "source": [
    "#TODO"
   ]
  },
  {
   "cell_type": "markdown",
   "metadata": {},
   "source": [
    "### Usando validação para verificar se há overfitting"
   ]
  },
  {
   "cell_type": "code",
   "execution_count": null,
   "metadata": {},
   "outputs": [],
   "source": [
    "X_train, X_val, y_train, y_val = model_selection.train_test_split(X_train, y_train, random_state=2, test_size=0.2)\n",
    "\n",
    "history = model.fit(X_train, y_train, validation_data=(X_val, y_val), epochs=200, batch_size=32)"
   ]
  },
  {
   "cell_type": "code",
   "execution_count": null,
   "metadata": {},
   "outputs": [],
   "source": [
    "plt.plot(history.history['loss'])\n",
    "plt.plot(history.history['val_loss'])\n",
    "plt.title('Metrica de erro')\n",
    "plt.ylabel('Erro')\n",
    "plt.xlabel('Epoca')\n",
    "plt.legend(['Treinamento', 'Validacao'])\n",
    "plt.show()\n",
    "\n",
    "pred = np.round(model.predict(X_train))\n",
    "print(f'--> Acuracia (treino): {accuracy_score(y_train, pred):.4f}')\n",
    "\n",
    "pred = np.round(model.predict(X_test))\n",
    "print(f'--> Acuracia (teste): {accuracy_score(y_test, pred):.4f}')"
   ]
  },
  {
   "cell_type": "markdown",
   "metadata": {},
   "source": [
    "<span style=\"color:red; font-size: 18px; font-weight: bold;\">Crie uma rede neural para gerar overfitting</span>"
   ]
  },
  {
   "cell_type": "code",
   "execution_count": null,
   "metadata": {},
   "outputs": [],
   "source": [
    "#TODO"
   ]
  },
  {
   "cell_type": "markdown",
   "metadata": {},
   "source": [
    "### Tratando o overfitting"
   ]
  },
  {
   "cell_type": "code",
   "execution_count": null,
   "metadata": {},
   "outputs": [],
   "source": [
    "from keras.layers import Dropout\n",
    "from keras import regularizers\n",
    "from keras.callbacks import EarlyStopping\n",
    "\n",
    "# Criando a arquitetura da rede neural\n",
    "model = Sequential()\n",
    "\n",
    "# Após o teste anterior, testem a rede neural abaixo, treinando-a com o Early Stopping\n",
    "model.add(Dense(260, input_dim=13, kernel_initializer='normal', kernel_regularizer=regularizers.l2(0.01), activation='relu'))\n",
    "#model.add(Dropout(0.2))\n",
    "model.add(Dense(260, kernel_initializer='normal', kernel_regularizer=regularizers.l2(0.01), activation='relu'))\n",
    "#model.add(Dropout(0.2))\n",
    "model.add(Dense(1, kernel_initializer='normal', activation='sigmoid'))\n",
    "\n",
    "# Early Stopping\n",
    "es = EarlyStopping(monitor='val_loss', mode='min', verbose=1, patience=20)\n",
    "\n",
    "# Compilar o modelo\n",
    "model.compile(loss='binary_crossentropy', optimizer=\"adam\", metrics=['accuracy'])\n",
    "\n",
    "print(model.summary())\n",
    "\n",
    "# Treinamento SEM Early Stopping\n",
    "#history = model.fit(X_train, y_train, validation_data=(X_val, y_val), epochs=300, batch_size=32)\n",
    "\n",
    "# Treinamento COM Early Stopping\n",
    "history = model.fit(X_train, y_train, validation_data=(X_test, y_test), epochs=300, batch_size=32, callbacks=[es])\n"
   ]
  },
  {
   "cell_type": "code",
   "execution_count": null,
   "metadata": {},
   "outputs": [],
   "source": [
    "plt.plot(history.history['loss'])\n",
    "plt.plot(history.history['val_loss'])\n",
    "plt.title('Metrica de erro')\n",
    "plt.ylabel('Erro')\n",
    "plt.xlabel('Epoca')\n",
    "plt.legend(['Treinamento', 'Validacao'])\n",
    "plt.show()\n",
    "\n",
    "pred = np.round(model.predict(X_test))\n",
    "pred_train = np.round(model.predict(X_train))\n",
    "\n",
    "print(f'--> Acuracia (train): {accuracy_score(y_train, pred_train):.4f}')\n",
    "print(f'--> Acuracia (test): {accuracy_score(y_test, pred):.4f}')"
   ]
  }
 ],
 "metadata": {
  "colab": {
   "authorship_tag": "ABX9TyOynPX5cEINSKjMp5zfF7bl",
   "collapsed_sections": [
    "Rj2kcsWyjrIm",
    "elJaO1N04Vt-",
    "hbDSEprOnqNX",
    "SuM-JIuWn33h"
   ],
   "name": "teoria_generalizacao.ipynb",
   "provenance": []
  },
  "kernelspec": {
   "display_name": "Python 3 (ipykernel)",
   "language": "python",
   "name": "python3"
  },
  "language_info": {
   "codemirror_mode": {
    "name": "ipython",
    "version": 3
   },
   "file_extension": ".py",
   "mimetype": "text/x-python",
   "name": "python",
   "nbconvert_exporter": "python",
   "pygments_lexer": "ipython3",
   "version": "3.10.9"
  }
 },
 "nbformat": 4,
 "nbformat_minor": 4
}
