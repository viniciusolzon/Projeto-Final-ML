{
 "cells": [
  {
   "cell_type": "code",
   "execution_count": 28,
   "metadata": {},
   "outputs": [],
   "source": [
    "import matplotlib.pyplot as plt\n",
    "import seaborn as sns\n",
    "import pandas as pd\n",
    "import numpy as np\n",
    "import matplotlib\n",
    "import sklearn\n",
    "import keras\n",
    "import sys\n",
    "\n",
    "from pandas.plotting import scatter_matrix\n",
    "from sklearn.metrics import accuracy_score\n",
    "from keras.models import Sequential\n",
    "from sklearn import model_selection\n",
    "from keras.layers import Dense\n",
    "from keras import regularizers\n",
    "from keras import optimizers\n",
    "from sklearn.svm import SVC\n"
   ]
  },
  {
   "cell_type": "code",
   "execution_count": 29,
   "metadata": {},
   "outputs": [],
   "source": [
    "data = pd.read_csv('dados.csv', sep=',')\n",
    "\n",
    "#X = np.array(data.drop(['MADE'], axis=1))\n",
    "#y = np.array(data['MADE'])"
   ]
  },
  {
   "cell_type": "markdown",
   "metadata": {},
   "source": [
    "## SVM"
   ]
  },
  {
   "cell_type": "code",
   "execution_count": 30,
   "metadata": {},
   "outputs": [
    {
     "data": {
      "text/plain": [
       "(209626, 13)"
      ]
     },
     "execution_count": 30,
     "metadata": {},
     "output_type": "execute_result"
    }
   ],
   "source": [
    "data.shape"
   ]
  },
  {
   "cell_type": "markdown",
   "metadata": {},
   "source": [
    "### Cross validation"
   ]
  },
  {
   "cell_type": "code",
   "execution_count": 37,
   "metadata": {},
   "outputs": [
    {
     "name": "stdout",
     "output_type": "stream",
     "text": [
      "Acurácia do modelo SVM: 0.56\n"
     ]
    }
   ],
   "source": [
    "teste = data.iloc[:400]\n",
    "X = np.array(teste.drop(['MADE'], axis=1))\n",
    "y = np.array(teste['MADE'])\n",
    "X_train, X_test, y_train, y_test = model_selection.train_test_split(X, y, random_state=23, test_size=0.2)\n",
    "\n",
    "clf = SVC(kernel='rbf', C=0.9, gamma=0.0001).fit(X_train, y_train)\n",
    "y_pred = clf.predict(X_test)\n",
    "accuracy = accuracy_score(y_test, y_pred)\n",
    "    \n",
    "print(f'Acurácia do modelo SVM: {accuracy:.2f}')"
   ]
  },
  {
   "cell_type": "code",
   "execution_count": null,
   "metadata": {},
   "outputs": [
    {
     "data": {
      "text/html": [
       "<div>\n",
       "<style scoped>\n",
       "    .dataframe tbody tr th:only-of-type {\n",
       "        vertical-align: middle;\n",
       "    }\n",
       "\n",
       "    .dataframe tbody tr th {\n",
       "        vertical-align: top;\n",
       "    }\n",
       "\n",
       "    .dataframe thead th {\n",
       "        text-align: right;\n",
       "    }\n",
       "</style>\n",
       "<table border=\"1\" class=\"dataframe\">\n",
       "  <thead>\n",
       "    <tr style=\"text-align: right;\">\n",
       "      <th></th>\n",
       "      <th>MADE</th>\n",
       "      <th>SHOT TYPE</th>\n",
       "      <th>PERIOD</th>\n",
       "      <th>TIME REMAINING</th>\n",
       "      <th>SHOT DISTANCE (FT)</th>\n",
       "      <th>is_home</th>\n",
       "      <th>off_win_rate</th>\n",
       "      <th>def_blocks</th>\n",
       "      <th>def_win_rate</th>\n",
       "      <th>Age</th>\n",
       "      <th>Height</th>\n",
       "      <th>Weight</th>\n",
       "      <th>DRAFT NUMBER</th>\n",
       "    </tr>\n",
       "  </thead>\n",
       "  <tbody>\n",
       "    <tr>\n",
       "      <th>0</th>\n",
       "      <td>1</td>\n",
       "      <td>2</td>\n",
       "      <td>1</td>\n",
       "      <td>675</td>\n",
       "      <td>13</td>\n",
       "      <td>1</td>\n",
       "      <td>0.621951</td>\n",
       "      <td>435</td>\n",
       "      <td>0.621951</td>\n",
       "      <td>29</td>\n",
       "      <td>195.072</td>\n",
       "      <td>100.0</td>\n",
       "      <td>6</td>\n",
       "    </tr>\n",
       "    <tr>\n",
       "      <th>1</th>\n",
       "      <td>0</td>\n",
       "      <td>3</td>\n",
       "      <td>1</td>\n",
       "      <td>402</td>\n",
       "      <td>22</td>\n",
       "      <td>1</td>\n",
       "      <td>0.621951</td>\n",
       "      <td>435</td>\n",
       "      <td>0.621951</td>\n",
       "      <td>29</td>\n",
       "      <td>195.072</td>\n",
       "      <td>100.0</td>\n",
       "      <td>6</td>\n",
       "    </tr>\n",
       "    <tr>\n",
       "      <th>2</th>\n",
       "      <td>0</td>\n",
       "      <td>2</td>\n",
       "      <td>1</td>\n",
       "      <td>205</td>\n",
       "      <td>6</td>\n",
       "      <td>1</td>\n",
       "      <td>0.621951</td>\n",
       "      <td>435</td>\n",
       "      <td>0.621951</td>\n",
       "      <td>29</td>\n",
       "      <td>195.072</td>\n",
       "      <td>100.0</td>\n",
       "      <td>6</td>\n",
       "    </tr>\n",
       "    <tr>\n",
       "      <th>3</th>\n",
       "      <td>1</td>\n",
       "      <td>2</td>\n",
       "      <td>2</td>\n",
       "      <td>453</td>\n",
       "      <td>9</td>\n",
       "      <td>1</td>\n",
       "      <td>0.621951</td>\n",
       "      <td>435</td>\n",
       "      <td>0.621951</td>\n",
       "      <td>29</td>\n",
       "      <td>195.072</td>\n",
       "      <td>100.0</td>\n",
       "      <td>6</td>\n",
       "    </tr>\n",
       "    <tr>\n",
       "      <th>4</th>\n",
       "      <td>0</td>\n",
       "      <td>2</td>\n",
       "      <td>2</td>\n",
       "      <td>393</td>\n",
       "      <td>6</td>\n",
       "      <td>1</td>\n",
       "      <td>0.621951</td>\n",
       "      <td>435</td>\n",
       "      <td>0.621951</td>\n",
       "      <td>29</td>\n",
       "      <td>195.072</td>\n",
       "      <td>100.0</td>\n",
       "      <td>6</td>\n",
       "    </tr>\n",
       "  </tbody>\n",
       "</table>\n",
       "</div>"
      ],
      "text/plain": [
       "   MADE  SHOT TYPE  PERIOD  TIME REMAINING  SHOT DISTANCE (FT)  is_home  \\\n",
       "0     1          2       1             675                  13        1   \n",
       "1     0          3       1             402                  22        1   \n",
       "2     0          2       1             205                   6        1   \n",
       "3     1          2       2             453                   9        1   \n",
       "4     0          2       2             393                   6        1   \n",
       "\n",
       "   off_win_rate  def_blocks  def_win_rate  Age   Height  Weight  DRAFT NUMBER  \n",
       "0      0.621951         435      0.621951   29  195.072   100.0             6  \n",
       "1      0.621951         435      0.621951   29  195.072   100.0             6  \n",
       "2      0.621951         435      0.621951   29  195.072   100.0             6  \n",
       "3      0.621951         435      0.621951   29  195.072   100.0             6  \n",
       "4      0.621951         435      0.621951   29  195.072   100.0             6  "
      ]
     },
     "execution_count": 24,
     "metadata": {},
     "output_type": "execute_result"
    }
   ],
   "source": [
    "teste.head()"
   ]
  },
  {
   "cell_type": "code",
   "execution_count": null,
   "metadata": {},
   "outputs": [],
   "source": [
    "#scores = cross_val_score(clf, X, y, cv=5)\n",
    "#scores"
   ]
  },
  {
   "cell_type": "code",
   "execution_count": null,
   "metadata": {},
   "outputs": [],
   "source": [
    "#scores = cross_val_score(clf, X, y, cv=5, scoring='f1_macro')\n",
    "#scores"
   ]
  }
 ],
 "metadata": {
  "kernelspec": {
   "display_name": "Python 3",
   "language": "python",
   "name": "python3"
  },
  "language_info": {
   "codemirror_mode": {
    "name": "ipython",
    "version": 3
   },
   "file_extension": ".py",
   "mimetype": "text/x-python",
   "name": "python",
   "nbconvert_exporter": "python",
   "pygments_lexer": "ipython3",
   "version": "3.8.10"
  }
 },
 "nbformat": 4,
 "nbformat_minor": 2
}
