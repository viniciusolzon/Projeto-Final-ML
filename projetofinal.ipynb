{
 "cells": [
  {
   "cell_type": "code",
   "execution_count": null,
   "metadata": {},
   "outputs": [],
   "source": [
    "import matplotlib.pyplot as plt\n",
    "import seaborn as sns\n",
    "import pandas as pd\n",
    "import numpy as np\n",
    "import matplotlib\n",
    "import sklearn\n",
    "import keras\n",
    "import sys\n",
    "\n",
    "from pandas.plotting import scatter_matrix\n",
    "from sklearn.metrics import accuracy_score\n",
    "from keras.models import Sequential\n",
    "from sklearn import model_selection\n",
    "from keras.layers import Dense\n",
    "from keras import regularizers\n",
    "from keras import optimizers\n"
   ]
  },
  {
   "cell_type": "markdown",
   "metadata": {},
   "source": [
    "## Importação dos datasets"
   ]
  },
  {
   "cell_type": "code",
   "execution_count": null,
   "metadata": {},
   "outputs": [],
   "source": [
    "fga = pd.read_csv('NBA_22_23_FGA.csv', sep=';')\n",
    "fga.head()"
   ]
  },
  {
   "cell_type": "code",
   "execution_count": null,
   "metadata": {},
   "outputs": [],
   "source": [
    "## Tabela com o nome, código e estatísticas de todos os time da NBA\n",
    "cod_teams = pd.read_csv('cod_teams.csv', sep=';')\n",
    "cod_teams.head()"
   ]
  },
  {
   "cell_type": "code",
   "execution_count": null,
   "metadata": {},
   "outputs": [],
   "source": [
    "## Tabela com o nome, altura, peso e posição do draft de todos os jogadores da temporada 2022-2023 da NBA\n",
    "info_players = pd.read_csv('players_info.csv', sep=',')\n",
    "info_players = info_players.rename(columns={\"Player\": \"PLAYER\"})\n",
    "info_players.head(10)"
   ]
  },
  {
   "cell_type": "markdown",
   "metadata": {},
   "source": [
    "## Tratamento dos datasets"
   ]
  },
  {
   "cell_type": "markdown",
   "metadata": {},
   "source": [
    "### cod_teams"
   ]
  },
  {
   "cell_type": "code",
   "execution_count": null,
   "metadata": {},
   "outputs": [],
   "source": [
    "cod_teams['win_rate'] = cod_teams[\"W21_22\"] / (cod_teams[\"W21_22\"] + cod_teams[\"L21_22\"])\n",
    "cod_teams.drop(columns=['W21_22', 'L21_22'], inplace=True)\n",
    "cod_teams.head()"
   ]
  },
  {
   "cell_type": "markdown",
   "metadata": {},
   "source": [
    "### info_players"
   ]
  },
  {
   "cell_type": "code",
   "execution_count": null,
   "metadata": {},
   "outputs": [],
   "source": [
    "## preencher valores nulos de DRAFT NUMBER com 100\n",
    "info_players['DRAFT NUMBER'] = info_players['DRAFT NUMBER'].fillna(100)\n",
    "\n",
    "## substituir \"Undrafted\" por 100\n",
    "info_players['DRAFT NUMBER'] = info_players['DRAFT NUMBER'].replace('Undrafted', 100)\n",
    "\n",
    "## converter DRAFT NUMBER para int\n",
    "info_players['DRAFT NUMBER'] = info_players['DRAFT NUMBER'].astype(int)\n",
    "\n",
    "info_players.head()"
   ]
  },
  {
   "cell_type": "code",
   "execution_count": null,
   "metadata": {},
   "outputs": [],
   "source": [
    "## Transformar a coluna \"Height\" em centímetros, assumindo que 1 ft = 30.48 cm:\n",
    "## Transformar a coluna \"Weight\" em quilos, assumindo que 1 kg = 2.20 libras\n",
    "\n",
    "heights = []\n",
    "weights = []\n",
    "\n",
    "for i in range(len(info_players)):\n",
    "    height = float(info_players['Height'][i].replace('-', '.')) * 30.48\n",
    "    heights.append(height)\n",
    "    weight = float(info_players['Weight'][i]) / 2.20\n",
    "    weights.append(weight)\n",
    "\n",
    "info_players['Height'] = heights\n",
    "info_players['Weight'] = weights\n",
    "\n",
    "info_players.head()"
   ]
  },
  {
   "cell_type": "markdown",
   "metadata": {},
   "source": [
    "### fga"
   ]
  },
  {
   "cell_type": "code",
   "execution_count": null,
   "metadata": {},
   "outputs": [],
   "source": [
    "fga.head()"
   ]
  },
  {
   "cell_type": "code",
   "execution_count": null,
   "metadata": {},
   "outputs": [],
   "source": [
    "## 1) Substituir \"✔ Made Shot\" por 1 e \"✘ Missed Shot\" por 0\n",
    "\n",
    "fga['MADE'] = fga['MADE'].replace('✔ Made Shot', 1)\n",
    "fga['MADE'] = fga['MADE'].replace('✖ Missed Shot', 0)"
   ]
  },
  {
   "cell_type": "code",
   "execution_count": null,
   "metadata": {},
   "outputs": [],
   "source": [
    "## 2) Substituir \"2PT Field Goal\" por 2 e \"3PT Field Goal\" por 3\n",
    "\n",
    "fga['SHOT TYPE'] = fga['SHOT TYPE'].replace('2PT Field Goal', 2)\n",
    "fga['SHOT TYPE'] = fga['SHOT TYPE'].replace('3PT Field Goal', 3)"
   ]
  },
  {
   "cell_type": "code",
   "execution_count": null,
   "metadata": {},
   "outputs": [],
   "source": [
    "## 3) Retirar colunas descenessárias para o modelo\n",
    "\n",
    "fga.drop('BOXSCORE', axis='columns', inplace=True)\n",
    "fga.drop('Game\\xa0Date', axis='columns', inplace=True)\n",
    "fga.head()"
   ]
  },
  {
   "cell_type": "code",
   "execution_count": null,
   "metadata": {},
   "outputs": [],
   "source": [
    "## 4) Criar uma coluna para identificar se o time que arremessou é mandante ou visitante da partida\n",
    "## 5) Criar uma coluna para identificar a taxa de vitórias da temporada anterior\n",
    "## 6) Transformar a coluna \"TIME REMAINING\" em segundos\n",
    "\n",
    "is_home = []\n",
    "owr = []\n",
    "blocks = []\n",
    "dwr = []\n",
    "time_remaining = []\n",
    "for i in range(len(fga)):\n",
    "    # 4)\n",
    "    if (cod_teams[cod_teams['name'] == fga['TEAM'][i]][\"cod\"].values[0]) == fga['HTM'][i]:\n",
    "        is_home.append(1)\n",
    "    else:\n",
    "        is_home.append(0)\n",
    "    \n",
    "    # 5)\n",
    "    owr.append(cod_teams[cod_teams['name'] == fga[\"TEAM\"][i]]['win_rate'].values[0])\n",
    "\n",
    "    # 6)\n",
    "    time = fga['TIME REMAINING'][i].split(':')\n",
    "    time_remaining.append(int(time[0])*60 + int(time[1]))\n",
    "\n",
    "\n",
    "fga['is_home'] = is_home\n",
    "fga['off_win_rate'] = owr\n",
    "fga['TIME REMAINING'] = time_remaining"
   ]
  },
  {
   "cell_type": "code",
   "execution_count": null,
   "metadata": {},
   "outputs": [],
   "source": [
    "## 7) Criar uma coluna com o número de bloqueios da temporada anterior do time defensor\n",
    "## 8) Criar uma coluna com o índice de vitórias do time defensor na temporada anterior\n",
    "\n",
    "dwr = []\n",
    "blocks = []\n",
    "for i in range(len(fga)):\n",
    "    if fga[\"is_home\"][i] == 1:\n",
    "        blocks.append(cod_teams[cod_teams['cod'] == fga[\"VTM\"][i]]['blocks'].values[0])\n",
    "        dwr.append(cod_teams[cod_teams['cod'] == fga[\"VTM\"][i]]['win_rate'].values[0])\n",
    "    else:\n",
    "        blocks.append(cod_teams[cod_teams['cod'] == fga[\"HTM\"][i]]['blocks'].values[0])\n",
    "        dwr.append(cod_teams[cod_teams['cod'] == fga[\"HTM\"][i]]['win_rate'].values[0])\n",
    "\n",
    "fga['def_blocks'] = blocks\n",
    "fga['def_win_rate'] = dwr"
   ]
  },
  {
   "cell_type": "code",
   "execution_count": null,
   "metadata": {},
   "outputs": [],
   "source": [
    "info_players.head()"
   ]
  },
  {
   "cell_type": "code",
   "execution_count": null,
   "metadata": {},
   "outputs": [],
   "source": [
    "fga = fga.merge(info_players, on='PLAYER', how='inner')\n",
    "fga.head()"
   ]
  },
  {
   "cell_type": "code",
   "execution_count": null,
   "metadata": {},
   "outputs": [],
   "source": [
    "## Removendo colunas que não serão utilizadas no modelo\n",
    "fga.drop('PLAYER', axis='columns', inplace=True)\n",
    "fga.drop('PLAY TYPE', axis='columns', inplace=True)\n",
    "fga.drop('HTM', axis='columns', inplace=True)\n",
    "fga.drop('VTM', axis='columns', inplace=True)\n",
    "\n",
    "fga.head()"
   ]
  },
  {
   "cell_type": "markdown",
   "metadata": {},
   "source": [
    "## Análise exploratória"
   ]
  },
  {
   "cell_type": "code",
   "execution_count": null,
   "metadata": {},
   "outputs": [],
   "source": [
    "import plotly.express as px\n",
    "\n",
    "## Quais são os times que mais arriscam arremessos?\n",
    "\n",
    "fig = px.bar(fga.value_counts('TEAM').head(5), x=fga.value_counts('TEAM').head(5).index, y=fga.value_counts('TEAM').head(5).values, title='Times que mais arriscam arremessos')\n",
    "fig.update_layout(xaxis_title=\"Times\", yaxis_title=\"Número de arremessos\")\n",
    "fig.update_yaxes(range=[7000, 8000])\n",
    "fig.update_traces(texttemplate='%{value}', textposition='outside')\n",
    "fig.show()\n"
   ]
  },
  {
   "cell_type": "code",
   "execution_count": null,
   "metadata": {},
   "outputs": [],
   "source": [
    "## E os que mais possuem arremessos convertidos?\n",
    "\n",
    "fig = px.bar(fga[fga[\"MADE\"] == 1].value_counts('TEAM').head(5), x=fga[fga[\"MADE\"] == 1].value_counts('TEAM').head(5).index, y=fga[fga[\"MADE\"] == 1].value_counts('TEAM').head(5).values, title='Times que mais possuem arremessos convertidos')\n",
    "fig.update_layout(xaxis_title=\"Times\", yaxis_title=\"Número de arremessos convertidos\")\n",
    "fig.update_yaxes(range=[3000, 4000])\n",
    "fig.update_traces(texttemplate='%{value}', textposition='outside')\n",
    "fig.show()"
   ]
  },
  {
   "cell_type": "code",
   "execution_count": null,
   "metadata": {},
   "outputs": [],
   "source": [
    "## E os que menos possuem arremessos convertidos?\n",
    "\n",
    "fig = px.bar(fga[fga[\"MADE\"] == 1].value_counts('TEAM').tail(5), x=fga[fga[\"MADE\"] == 1].value_counts('TEAM').tail(5).index, y=fga[fga[\"MADE\"] == 1].value_counts('TEAM').tail(5).values, title='Times que mais possuem arremessos convertidos')\n",
    "fig.update_layout(xaxis_title=\"Times\", yaxis_title=\"Número de arremessos convertidos\")\n",
    "fig.update_yaxes(range=[3000, 4000])\n",
    "fig.update_traces(texttemplate='%{value}', textposition='outside')\n",
    "fig.show()"
   ]
  },
  {
   "cell_type": "code",
   "execution_count": null,
   "metadata": {},
   "outputs": [],
   "source": [
    "## Quais são os times com maior taxa de acerto nos arremessos?\n",
    "\n",
    "(fga[fga[\"MADE\"] == 1].value_counts('TEAM') / fga.value_counts('TEAM')).sort_values(ascending=False).head(5).map('{:.2%}'.format)"
   ]
  },
  {
   "cell_type": "code",
   "execution_count": null,
   "metadata": {},
   "outputs": [],
   "source": [
    "## Quais são os times com maior taxa de erro nos arremessos?\n",
    "\n",
    "(fga[fga[\"MADE\"] == 0].value_counts('TEAM') / fga.value_counts('TEAM')).sort_values(ascending=False).head(5).map('{:.2%}'.format)"
   ]
  },
  {
   "cell_type": "code",
   "execution_count": null,
   "metadata": {},
   "outputs": [],
   "source": [
    "## 9) Retirar a coluna \"TEAM\", ela não tem mais uso daqui em diante\n",
    "fga.drop('TEAM', axis='columns', inplace=True)"
   ]
  },
  {
   "cell_type": "markdown",
   "metadata": {},
   "source": [
    "## Dataset após a análise exploratória e tratamento dos dados"
   ]
  },
  {
   "cell_type": "code",
   "execution_count": null,
   "metadata": {},
   "outputs": [],
   "source": [
    "print(f\"Shape: {fga.shape}\")\n",
    "fga.head()"
   ]
  },
  {
   "cell_type": "code",
   "execution_count": null,
   "metadata": {},
   "outputs": [],
   "source": [
    "X = np.array(fga.drop(['MADE'], axis=1))\n",
    "y = np.array(fga['MADE'])"
   ]
  },
  {
   "cell_type": "markdown",
   "metadata": {},
   "source": [
    "### Matriz de correlação"
   ]
  },
  {
   "cell_type": "code",
   "execution_count": null,
   "metadata": {},
   "outputs": [],
   "source": [
    "plt.figure(figsize=(10,10))\n",
    "sns.heatmap(fga.corr(), annot=True, fmt='.1f')\n",
    "plt.show()"
   ]
  },
  {
   "cell_type": "markdown",
   "metadata": {},
   "source": [
    "## SVM"
   ]
  },
  {
   "cell_type": "code",
   "execution_count": null,
   "metadata": {},
   "outputs": [],
   "source": [
    "from sklearn.svm import SVC\n",
    "clf = SVC(kernel='poly', degree=300).fit(X, y)\n",
    "\n",
    "plt.scatter(X[:, 0], X[:, 1], c=y, s=50, cmap='autumn')\n",
    "plot_svc_decision_function(clf)\n",
    "\n",
    "# plot support vectors\n",
    "plt.scatter(clf.support_vectors_[:, 0],\n",
    "            clf.support_vectors_[:, 1],\n",
    "            s=10, linewidth=10, facecolors='k')\n",
    "print(\"#VS : \" + str(len((clf.support_vectors_))))"
   ]
  },
  {
   "cell_type": "code",
   "execution_count": null,
   "metadata": {},
   "outputs": [],
   "source": [
    "import numpy as np\n",
    "\n",
    "def plot_svc_decision_function(model):\n",
    "    xlim = plt.gca().get_xlim()\n",
    "    ylim = plt.gca().get_ylim()\n",
    "    \n",
    "    # create grid to evaluate model\n",
    "    x = np.linspace(xlim[0], xlim[1], 30)\n",
    "    y = np.linspace(ylim[0], ylim[1], 30)\n",
    "    Y, X = np.meshgrid(y, x)\n",
    "    xy = np.vstack([X.ravel(), Y.ravel()]).T\n",
    "    P = model.decision_function(xy).reshape(X.shape)\n",
    "\n",
    "    # plot decision boundary and margins\n",
    "    plt.contour(X, Y, P,  colors='k',\n",
    "               levels=[-1, 0, 1], alpha=0.5,\n",
    "               linestyles=['--', '-', '--'])\n",
    "\n",
    "plt.scatter(X[:, 0], X[:, 1], c=y, s=50, cmap='autumn')\n",
    "plot_svc_decision_function(model)\n",
    "\n",
    "# plot support vectors\n",
    "plt.scatter(model.support_vectors_[:, 0],\n",
    "            model.support_vectors_[:, 1],\n",
    "            s=10, linewidth=10, facecolors='k')"
   ]
  },
  {
   "cell_type": "code",
   "execution_count": null,
   "metadata": {},
   "outputs": [],
   "source": [
    "clf = SVC(kernel='rbf')\n",
    "clf.fit(X, y)"
   ]
  },
  {
   "cell_type": "code",
   "execution_count": null,
   "metadata": {},
   "outputs": [],
   "source": [
    "plt.scatter(X[:, 0], X[:, 1], c=y, s=50, cmap='autumn')\n",
    "plot_svc_decision_function(clf)\n",
    "\n",
    "# plot support vectors\n",
    "plt.scatter(clf.support_vectors_[:, 0],\n",
    "            clf.support_vectors_[:, 1],\n",
    "            s=10, linewidth=10, facecolors='k')\n",
    "print(\"#VS : \" + str(len((clf.support_vectors_))))"
   ]
  },
  {
   "cell_type": "code",
   "execution_count": null,
   "metadata": {},
   "outputs": [],
   "source": [
    "# TALVEZ USAR A QUANTIA DE PONTOS GERADAS PELO ARREMESSO EM QUESTÃO AO INVÉS DE USAR SE A BOLA CAIU OU NÃO"
   ]
  },
  {
   "cell_type": "markdown",
   "metadata": {},
   "source": [
    "## Rede Neural"
   ]
  },
  {
   "cell_type": "markdown",
   "metadata": {},
   "source": [
    "### Criando a rede neural"
   ]
  },
  {
   "cell_type": "code",
   "execution_count": null,
   "metadata": {},
   "outputs": [],
   "source": [
    "from keras.callbacks import EarlyStopping\n",
    "\n",
    "X_train, X_test, y_train, y_test = model_selection.train_test_split(X, y, random_state=2, test_size=0.2)\n",
    "\n",
    "# Criando a arquitetura da rede neural\n",
    "model = Sequential()\n",
    "\n",
    "# Rede configurada a partir de informações da dimensão VC e da regra de ouro\n",
    "#model.add(Dense(5, input_dim=12, kernel_initializer='normal',  activation='tanh'))\n",
    "model.add(Dense(5, input_dim=12, kernel_initializer='normal', kernel_regularizer=regularizers.l2(0.01), activation='relu'))\n",
    "model.add(Dense(1, kernel_initializer='normal', activation='sigmoid'))\n",
    "\n",
    "# Early stopping\n",
    "es = EarlyStopping(monitor='val_loss', mode='min', verbose=1, patience=20)\n",
    "\n",
    "# Instanciação e configuração de otimizadores\n",
    "sgd = optimizers.SGD(learning_rate=0.01)\n",
    "\n",
    "# Compila o modelo. O otimizador escolhido foi o Adam com os parâmetros default\n",
    "model.compile(loss='binary_crossentropy', optimizer=\"adam\", metrics=['accuracy'])\n",
    "\n",
    "print(model.summary())"
   ]
  },
  {
   "cell_type": "markdown",
   "metadata": {},
   "source": [
    "### Treinando a rede neural"
   ]
  },
  {
   "cell_type": "code",
   "execution_count": null,
   "metadata": {},
   "outputs": [],
   "source": [
    "# 167700 exemplos no 'X_train', para calcular a quantidade mínima de neurônios com base na regra de ouro:\n",
    "# n <= ( (167700 - 10) / (10*(12+2) ) )  --> n <= 1197"
   ]
  },
  {
   "cell_type": "code",
   "execution_count": null,
   "metadata": {},
   "outputs": [],
   "source": [
    "BATCH_SIZE = 32\n",
    "\n",
    "X_train, X_val, y_train, y_val = model_selection.train_test_split(X_train, y_train, random_state=2, test_size=0.2)\n",
    "\n",
    "# Treinamento SEM Early Stopping\n",
    "#history = model.fit(X_train, y_train, validation_data=(X_val, y_val), epochs=10, batch_size=BATCH_SIZE)\n",
    "\n",
    "# Treinamento COM Early Stopping\n",
    "history = model.fit(X_train, y_train, validation_data=(X_test, y_test), epochs=10, batch_size=BATCH_SIZE, callbacks=[es])\n"
   ]
  },
  {
   "cell_type": "markdown",
   "metadata": {},
   "source": [
    "### Performance do modelo"
   ]
  },
  {
   "cell_type": "code",
   "execution_count": null,
   "metadata": {},
   "outputs": [],
   "source": [
    "plt.plot(history.history['loss'])\n",
    "plt.plot(history.history['val_loss'])\n",
    "plt.title('Metrica de erro')\n",
    "plt.ylabel('Erro')\n",
    "plt.xlabel('Epoca')\n",
    "plt.legend(['Treinamento', 'Validacao'])\n",
    "plt.show()\n",
    "\n",
    "pred = np.round(model.predict(X_test))\n",
    "pred_train = np.round(model.predict(X_train))\n",
    "\n",
    "print(f'--> Acuracia (train): {accuracy_score(y_train, pred_train):.4f}')\n",
    "print(f'--> Acuracia (test): {accuracy_score(y_test, pred):.4f}')"
   ]
  }
 ],
 "metadata": {
  "kernelspec": {
   "display_name": "Python 3",
   "language": "python",
   "name": "python3"
  },
  "language_info": {
   "codemirror_mode": {
    "name": "ipython",
    "version": 3
   },
   "file_extension": ".py",
   "mimetype": "text/x-python",
   "name": "python",
   "nbconvert_exporter": "python",
   "pygments_lexer": "ipython3",
   "version": "3.10.5"
  }
 },
 "nbformat": 4,
 "nbformat_minor": 2
}
