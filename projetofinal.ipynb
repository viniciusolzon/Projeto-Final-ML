{
 "cells": [
  {
   "cell_type": "code",
   "execution_count": 97,
   "metadata": {},
   "outputs": [],
   "source": [
    "import pandas as pd"
   ]
  },
  {
   "cell_type": "markdown",
   "metadata": {},
   "source": [
    "## Importação dos datasets"
   ]
  },
  {
   "cell_type": "code",
   "execution_count": 98,
   "metadata": {},
   "outputs": [
    {
     "data": {
      "text/html": [
       "<div>\n",
       "<style scoped>\n",
       "    .dataframe tbody tr th:only-of-type {\n",
       "        vertical-align: middle;\n",
       "    }\n",
       "\n",
       "    .dataframe tbody tr th {\n",
       "        vertical-align: top;\n",
       "    }\n",
       "\n",
       "    .dataframe thead th {\n",
       "        text-align: right;\n",
       "    }\n",
       "</style>\n",
       "<table border=\"1\" class=\"dataframe\">\n",
       "  <thead>\n",
       "    <tr style=\"text-align: right;\">\n",
       "      <th></th>\n",
       "      <th>PLAYER</th>\n",
       "      <th>PLAY TYPE</th>\n",
       "      <th>MADE</th>\n",
       "      <th>SHOT TYPE</th>\n",
       "      <th>BOXSCORE</th>\n",
       "      <th>VTM</th>\n",
       "      <th>HTM</th>\n",
       "      <th>Game Date</th>\n",
       "      <th>PERIOD</th>\n",
       "      <th>TIME REMAINING</th>\n",
       "      <th>SHOT DISTANCE (FT)</th>\n",
       "      <th>TEAM</th>\n",
       "    </tr>\n",
       "  </thead>\n",
       "  <tbody>\n",
       "    <tr>\n",
       "      <th>0</th>\n",
       "      <td>Marcus Smart</td>\n",
       "      <td>Driving Floating Bank Jump Shot</td>\n",
       "      <td>✔ Made Shot</td>\n",
       "      <td>2PT Field Goal</td>\n",
       "      <td>PHI @ BOS</td>\n",
       "      <td>PHI</td>\n",
       "      <td>BOS</td>\n",
       "      <td>Tuesday, October 18</td>\n",
       "      <td>1</td>\n",
       "      <td>11:15</td>\n",
       "      <td>13</td>\n",
       "      <td>Boston Celtics</td>\n",
       "    </tr>\n",
       "    <tr>\n",
       "      <th>1</th>\n",
       "      <td>Jayson Tatum</td>\n",
       "      <td>Jump Shot</td>\n",
       "      <td>✔ Made Shot</td>\n",
       "      <td>3PT Field Goal</td>\n",
       "      <td>PHI @ BOS</td>\n",
       "      <td>PHI</td>\n",
       "      <td>BOS</td>\n",
       "      <td>Tuesday, October 18</td>\n",
       "      <td>1</td>\n",
       "      <td>10:46</td>\n",
       "      <td>23</td>\n",
       "      <td>Boston Celtics</td>\n",
       "    </tr>\n",
       "    <tr>\n",
       "      <th>2</th>\n",
       "      <td>Derrick White</td>\n",
       "      <td>Running Layup Shot</td>\n",
       "      <td>✖ Missed Shot</td>\n",
       "      <td>2PT Field Goal</td>\n",
       "      <td>PHI @ BOS</td>\n",
       "      <td>PHI</td>\n",
       "      <td>BOS</td>\n",
       "      <td>Tuesday, October 18</td>\n",
       "      <td>1</td>\n",
       "      <td>10:04</td>\n",
       "      <td>1</td>\n",
       "      <td>Boston Celtics</td>\n",
       "    </tr>\n",
       "    <tr>\n",
       "      <th>3</th>\n",
       "      <td>Al Horford</td>\n",
       "      <td>Cutting Layup Shot</td>\n",
       "      <td>✖ Missed Shot</td>\n",
       "      <td>2PT Field Goal</td>\n",
       "      <td>PHI @ BOS</td>\n",
       "      <td>PHI</td>\n",
       "      <td>BOS</td>\n",
       "      <td>Tuesday, October 18</td>\n",
       "      <td>1</td>\n",
       "      <td>09:53</td>\n",
       "      <td>2</td>\n",
       "      <td>Boston Celtics</td>\n",
       "    </tr>\n",
       "    <tr>\n",
       "      <th>4</th>\n",
       "      <td>Jayson Tatum</td>\n",
       "      <td>Running Layup Shot</td>\n",
       "      <td>✔ Made Shot</td>\n",
       "      <td>2PT Field Goal</td>\n",
       "      <td>PHI @ BOS</td>\n",
       "      <td>PHI</td>\n",
       "      <td>BOS</td>\n",
       "      <td>Tuesday, October 18</td>\n",
       "      <td>1</td>\n",
       "      <td>09:42</td>\n",
       "      <td>0</td>\n",
       "      <td>Boston Celtics</td>\n",
       "    </tr>\n",
       "  </tbody>\n",
       "</table>\n",
       "</div>"
      ],
      "text/plain": [
       "          PLAYER                        PLAY TYPE           MADE  \\\n",
       "0   Marcus Smart  Driving Floating Bank Jump Shot    ✔ Made Shot   \n",
       "1   Jayson Tatum                        Jump Shot    ✔ Made Shot   \n",
       "2  Derrick White               Running Layup Shot  ✖ Missed Shot   \n",
       "3     Al Horford               Cutting Layup Shot  ✖ Missed Shot   \n",
       "4   Jayson Tatum               Running Layup Shot    ✔ Made Shot   \n",
       "\n",
       "        SHOT TYPE   BOXSCORE  VTM  HTM            Game Date  PERIOD  \\\n",
       "0  2PT Field Goal  PHI @ BOS  PHI  BOS  Tuesday, October 18       1   \n",
       "1  3PT Field Goal  PHI @ BOS  PHI  BOS  Tuesday, October 18       1   \n",
       "2  2PT Field Goal  PHI @ BOS  PHI  BOS  Tuesday, October 18       1   \n",
       "3  2PT Field Goal  PHI @ BOS  PHI  BOS  Tuesday, October 18       1   \n",
       "4  2PT Field Goal  PHI @ BOS  PHI  BOS  Tuesday, October 18       1   \n",
       "\n",
       "  TIME REMAINING  SHOT DISTANCE (FT)            TEAM  \n",
       "0          11:15                  13  Boston Celtics  \n",
       "1          10:46                  23  Boston Celtics  \n",
       "2          10:04                   1  Boston Celtics  \n",
       "3          09:53                   2  Boston Celtics  \n",
       "4          09:42                   0  Boston Celtics  "
      ]
     },
     "execution_count": 98,
     "metadata": {},
     "output_type": "execute_result"
    }
   ],
   "source": [
    "fga = pd.read_csv('NBA_22_23_FGA.csv', sep=';')\n",
    "fga.head()"
   ]
  },
  {
   "cell_type": "code",
   "execution_count": 99,
   "metadata": {},
   "outputs": [
    {
     "data": {
      "text/html": [
       "<div>\n",
       "<style scoped>\n",
       "    .dataframe tbody tr th:only-of-type {\n",
       "        vertical-align: middle;\n",
       "    }\n",
       "\n",
       "    .dataframe tbody tr th {\n",
       "        vertical-align: top;\n",
       "    }\n",
       "\n",
       "    .dataframe thead th {\n",
       "        text-align: right;\n",
       "    }\n",
       "</style>\n",
       "<table border=\"1\" class=\"dataframe\">\n",
       "  <thead>\n",
       "    <tr style=\"text-align: right;\">\n",
       "      <th></th>\n",
       "      <th>name</th>\n",
       "      <th>cod</th>\n",
       "      <th>W21_22</th>\n",
       "      <th>L21_22</th>\n",
       "      <th>blocks</th>\n",
       "    </tr>\n",
       "  </thead>\n",
       "  <tbody>\n",
       "    <tr>\n",
       "      <th>0</th>\n",
       "      <td>Atlanta Hawks</td>\n",
       "      <td>ATL</td>\n",
       "      <td>43</td>\n",
       "      <td>39</td>\n",
       "      <td>348</td>\n",
       "    </tr>\n",
       "    <tr>\n",
       "      <th>1</th>\n",
       "      <td>Boston Celtics</td>\n",
       "      <td>BOS</td>\n",
       "      <td>51</td>\n",
       "      <td>31</td>\n",
       "      <td>478</td>\n",
       "    </tr>\n",
       "    <tr>\n",
       "      <th>2</th>\n",
       "      <td>Brooklyn Nets</td>\n",
       "      <td>BKN</td>\n",
       "      <td>44</td>\n",
       "      <td>38</td>\n",
       "      <td>448</td>\n",
       "    </tr>\n",
       "    <tr>\n",
       "      <th>3</th>\n",
       "      <td>Charlotte Hornets</td>\n",
       "      <td>CHA</td>\n",
       "      <td>43</td>\n",
       "      <td>39</td>\n",
       "      <td>402</td>\n",
       "    </tr>\n",
       "    <tr>\n",
       "      <th>4</th>\n",
       "      <td>Chicago Bulls</td>\n",
       "      <td>CHI</td>\n",
       "      <td>46</td>\n",
       "      <td>36</td>\n",
       "      <td>336</td>\n",
       "    </tr>\n",
       "  </tbody>\n",
       "</table>\n",
       "</div>"
      ],
      "text/plain": [
       "                name  cod  W21_22  L21_22  blocks\n",
       "0      Atlanta Hawks  ATL      43      39     348\n",
       "1     Boston Celtics  BOS      51      31     478\n",
       "2      Brooklyn Nets  BKN      44      38     448\n",
       "3  Charlotte Hornets  CHA      43      39     402\n",
       "4      Chicago Bulls  CHI      46      36     336"
      ]
     },
     "execution_count": 99,
     "metadata": {},
     "output_type": "execute_result"
    }
   ],
   "source": [
    "## Tabela com o nome, código e estatísticas de todos os time da NBA\n",
    "cod_teams = pd.read_csv('cod_teams.csv', sep=';')\n",
    "cod_teams.head()"
   ]
  },
  {
   "cell_type": "code",
   "execution_count": 100,
   "metadata": {},
   "outputs": [
    {
     "data": {
      "text/html": [
       "<div>\n",
       "<style scoped>\n",
       "    .dataframe tbody tr th:only-of-type {\n",
       "        vertical-align: middle;\n",
       "    }\n",
       "\n",
       "    .dataframe tbody tr th {\n",
       "        vertical-align: top;\n",
       "    }\n",
       "\n",
       "    .dataframe thead th {\n",
       "        text-align: right;\n",
       "    }\n",
       "</style>\n",
       "<table border=\"1\" class=\"dataframe\">\n",
       "  <thead>\n",
       "    <tr style=\"text-align: right;\">\n",
       "      <th></th>\n",
       "      <th>PLAYER</th>\n",
       "      <th>Age</th>\n",
       "      <th>Height</th>\n",
       "      <th>Weight</th>\n",
       "      <th>DRAFT NUMBER</th>\n",
       "    </tr>\n",
       "  </thead>\n",
       "  <tbody>\n",
       "    <tr>\n",
       "      <th>0</th>\n",
       "      <td>A.J. Lawson</td>\n",
       "      <td>22</td>\n",
       "      <td>6-6</td>\n",
       "      <td>179</td>\n",
       "      <td>Undrafted</td>\n",
       "    </tr>\n",
       "    <tr>\n",
       "      <th>1</th>\n",
       "      <td>AJ Green</td>\n",
       "      <td>23</td>\n",
       "      <td>6-5</td>\n",
       "      <td>190</td>\n",
       "      <td>Undrafted</td>\n",
       "    </tr>\n",
       "    <tr>\n",
       "      <th>2</th>\n",
       "      <td>AJ Griffin</td>\n",
       "      <td>19</td>\n",
       "      <td>6-6</td>\n",
       "      <td>220</td>\n",
       "      <td>16</td>\n",
       "    </tr>\n",
       "    <tr>\n",
       "      <th>3</th>\n",
       "      <td>Aaron Gordon</td>\n",
       "      <td>27</td>\n",
       "      <td>6-8</td>\n",
       "      <td>235</td>\n",
       "      <td>4</td>\n",
       "    </tr>\n",
       "    <tr>\n",
       "      <th>4</th>\n",
       "      <td>Aaron Holiday</td>\n",
       "      <td>26</td>\n",
       "      <td>6-0</td>\n",
       "      <td>185</td>\n",
       "      <td>23</td>\n",
       "    </tr>\n",
       "    <tr>\n",
       "      <th>5</th>\n",
       "      <td>Aaron Nesmith</td>\n",
       "      <td>23</td>\n",
       "      <td>6-5</td>\n",
       "      <td>215</td>\n",
       "      <td>14</td>\n",
       "    </tr>\n",
       "    <tr>\n",
       "      <th>6</th>\n",
       "      <td>Aaron Wiggins</td>\n",
       "      <td>24</td>\n",
       "      <td>6-5</td>\n",
       "      <td>190</td>\n",
       "      <td>55</td>\n",
       "    </tr>\n",
       "    <tr>\n",
       "      <th>7</th>\n",
       "      <td>Admiral Schofield</td>\n",
       "      <td>26</td>\n",
       "      <td>6-5</td>\n",
       "      <td>241</td>\n",
       "      <td>42</td>\n",
       "    </tr>\n",
       "    <tr>\n",
       "      <th>8</th>\n",
       "      <td>Al Horford</td>\n",
       "      <td>37</td>\n",
       "      <td>6-9</td>\n",
       "      <td>240</td>\n",
       "      <td>3</td>\n",
       "    </tr>\n",
       "    <tr>\n",
       "      <th>9</th>\n",
       "      <td>Alec Burks</td>\n",
       "      <td>31</td>\n",
       "      <td>6-6</td>\n",
       "      <td>214</td>\n",
       "      <td>12</td>\n",
       "    </tr>\n",
       "  </tbody>\n",
       "</table>\n",
       "</div>"
      ],
      "text/plain": [
       "              PLAYER  Age Height  Weight DRAFT NUMBER\n",
       "0        A.J. Lawson   22    6-6     179    Undrafted\n",
       "1           AJ Green   23    6-5     190    Undrafted\n",
       "2         AJ Griffin   19    6-6     220           16\n",
       "3       Aaron Gordon   27    6-8     235            4\n",
       "4      Aaron Holiday   26    6-0     185           23\n",
       "5      Aaron Nesmith   23    6-5     215           14\n",
       "6      Aaron Wiggins   24    6-5     190           55\n",
       "7  Admiral Schofield   26    6-5     241           42\n",
       "8         Al Horford   37    6-9     240            3\n",
       "9         Alec Burks   31    6-6     214           12"
      ]
     },
     "execution_count": 100,
     "metadata": {},
     "output_type": "execute_result"
    }
   ],
   "source": [
    "## Tabela com o nome, altura, peso e posição do draft de todos os jogadores da temporada 2022-2023 da NBA\n",
    "info_players = pd.read_csv('players_info.csv', sep=',')\n",
    "info_players = info_players.rename(columns={\"Player\": \"PLAYER\"})\n",
    "info_players.head(10)"
   ]
  },
  {
   "cell_type": "markdown",
   "metadata": {},
   "source": [
    "## Tratamento dos datasets"
   ]
  },
  {
   "cell_type": "markdown",
   "metadata": {},
   "source": [
    "### cod_teams"
   ]
  },
  {
   "cell_type": "code",
   "execution_count": 101,
   "metadata": {},
   "outputs": [
    {
     "data": {
      "text/html": [
       "<div>\n",
       "<style scoped>\n",
       "    .dataframe tbody tr th:only-of-type {\n",
       "        vertical-align: middle;\n",
       "    }\n",
       "\n",
       "    .dataframe tbody tr th {\n",
       "        vertical-align: top;\n",
       "    }\n",
       "\n",
       "    .dataframe thead th {\n",
       "        text-align: right;\n",
       "    }\n",
       "</style>\n",
       "<table border=\"1\" class=\"dataframe\">\n",
       "  <thead>\n",
       "    <tr style=\"text-align: right;\">\n",
       "      <th></th>\n",
       "      <th>name</th>\n",
       "      <th>cod</th>\n",
       "      <th>blocks</th>\n",
       "      <th>win_rate</th>\n",
       "    </tr>\n",
       "  </thead>\n",
       "  <tbody>\n",
       "    <tr>\n",
       "      <th>0</th>\n",
       "      <td>Atlanta Hawks</td>\n",
       "      <td>ATL</td>\n",
       "      <td>348</td>\n",
       "      <td>0.524390</td>\n",
       "    </tr>\n",
       "    <tr>\n",
       "      <th>1</th>\n",
       "      <td>Boston Celtics</td>\n",
       "      <td>BOS</td>\n",
       "      <td>478</td>\n",
       "      <td>0.621951</td>\n",
       "    </tr>\n",
       "    <tr>\n",
       "      <th>2</th>\n",
       "      <td>Brooklyn Nets</td>\n",
       "      <td>BKN</td>\n",
       "      <td>448</td>\n",
       "      <td>0.536585</td>\n",
       "    </tr>\n",
       "    <tr>\n",
       "      <th>3</th>\n",
       "      <td>Charlotte Hornets</td>\n",
       "      <td>CHA</td>\n",
       "      <td>402</td>\n",
       "      <td>0.524390</td>\n",
       "    </tr>\n",
       "    <tr>\n",
       "      <th>4</th>\n",
       "      <td>Chicago Bulls</td>\n",
       "      <td>CHI</td>\n",
       "      <td>336</td>\n",
       "      <td>0.560976</td>\n",
       "    </tr>\n",
       "  </tbody>\n",
       "</table>\n",
       "</div>"
      ],
      "text/plain": [
       "                name  cod  blocks  win_rate\n",
       "0      Atlanta Hawks  ATL     348  0.524390\n",
       "1     Boston Celtics  BOS     478  0.621951\n",
       "2      Brooklyn Nets  BKN     448  0.536585\n",
       "3  Charlotte Hornets  CHA     402  0.524390\n",
       "4      Chicago Bulls  CHI     336  0.560976"
      ]
     },
     "execution_count": 101,
     "metadata": {},
     "output_type": "execute_result"
    }
   ],
   "source": [
    "cod_teams['win_rate'] = cod_teams[\"W21_22\"] / (cod_teams[\"W21_22\"] + cod_teams[\"L21_22\"])\n",
    "cod_teams.drop(columns=['W21_22', 'L21_22'], inplace=True)\n",
    "cod_teams.head()"
   ]
  },
  {
   "cell_type": "markdown",
   "metadata": {},
   "source": [
    "### info_players"
   ]
  },
  {
   "cell_type": "code",
   "execution_count": 102,
   "metadata": {},
   "outputs": [
    {
     "data": {
      "text/html": [
       "<div>\n",
       "<style scoped>\n",
       "    .dataframe tbody tr th:only-of-type {\n",
       "        vertical-align: middle;\n",
       "    }\n",
       "\n",
       "    .dataframe tbody tr th {\n",
       "        vertical-align: top;\n",
       "    }\n",
       "\n",
       "    .dataframe thead th {\n",
       "        text-align: right;\n",
       "    }\n",
       "</style>\n",
       "<table border=\"1\" class=\"dataframe\">\n",
       "  <thead>\n",
       "    <tr style=\"text-align: right;\">\n",
       "      <th></th>\n",
       "      <th>PLAYER</th>\n",
       "      <th>Age</th>\n",
       "      <th>Height</th>\n",
       "      <th>Weight</th>\n",
       "      <th>DRAFT NUMBER</th>\n",
       "    </tr>\n",
       "  </thead>\n",
       "  <tbody>\n",
       "    <tr>\n",
       "      <th>0</th>\n",
       "      <td>A.J. Lawson</td>\n",
       "      <td>22</td>\n",
       "      <td>6-6</td>\n",
       "      <td>179</td>\n",
       "      <td>100</td>\n",
       "    </tr>\n",
       "    <tr>\n",
       "      <th>1</th>\n",
       "      <td>AJ Green</td>\n",
       "      <td>23</td>\n",
       "      <td>6-5</td>\n",
       "      <td>190</td>\n",
       "      <td>100</td>\n",
       "    </tr>\n",
       "    <tr>\n",
       "      <th>2</th>\n",
       "      <td>AJ Griffin</td>\n",
       "      <td>19</td>\n",
       "      <td>6-6</td>\n",
       "      <td>220</td>\n",
       "      <td>16</td>\n",
       "    </tr>\n",
       "    <tr>\n",
       "      <th>3</th>\n",
       "      <td>Aaron Gordon</td>\n",
       "      <td>27</td>\n",
       "      <td>6-8</td>\n",
       "      <td>235</td>\n",
       "      <td>4</td>\n",
       "    </tr>\n",
       "    <tr>\n",
       "      <th>4</th>\n",
       "      <td>Aaron Holiday</td>\n",
       "      <td>26</td>\n",
       "      <td>6-0</td>\n",
       "      <td>185</td>\n",
       "      <td>23</td>\n",
       "    </tr>\n",
       "  </tbody>\n",
       "</table>\n",
       "</div>"
      ],
      "text/plain": [
       "          PLAYER  Age Height  Weight  DRAFT NUMBER\n",
       "0    A.J. Lawson   22    6-6     179           100\n",
       "1       AJ Green   23    6-5     190           100\n",
       "2     AJ Griffin   19    6-6     220            16\n",
       "3   Aaron Gordon   27    6-8     235             4\n",
       "4  Aaron Holiday   26    6-0     185            23"
      ]
     },
     "execution_count": 102,
     "metadata": {},
     "output_type": "execute_result"
    }
   ],
   "source": [
    "## preencher valores nulos de DRAFT NUMBER com 100\n",
    "info_players['DRAFT NUMBER'] = info_players['DRAFT NUMBER'].fillna(100)\n",
    "\n",
    "## substituir \"Undrafted\" por 100\n",
    "info_players['DRAFT NUMBER'] = info_players['DRAFT NUMBER'].replace('Undrafted', 100)\n",
    "\n",
    "## converter DRAFT NUMBER para int\n",
    "info_players['DRAFT NUMBER'] = info_players['DRAFT NUMBER'].astype(int)\n",
    "\n",
    "info_players.head()"
   ]
  },
  {
   "cell_type": "code",
   "execution_count": 103,
   "metadata": {},
   "outputs": [
    {
     "data": {
      "text/html": [
       "<div>\n",
       "<style scoped>\n",
       "    .dataframe tbody tr th:only-of-type {\n",
       "        vertical-align: middle;\n",
       "    }\n",
       "\n",
       "    .dataframe tbody tr th {\n",
       "        vertical-align: top;\n",
       "    }\n",
       "\n",
       "    .dataframe thead th {\n",
       "        text-align: right;\n",
       "    }\n",
       "</style>\n",
       "<table border=\"1\" class=\"dataframe\">\n",
       "  <thead>\n",
       "    <tr style=\"text-align: right;\">\n",
       "      <th></th>\n",
       "      <th>PLAYER</th>\n",
       "      <th>Age</th>\n",
       "      <th>Height</th>\n",
       "      <th>Weight</th>\n",
       "      <th>DRAFT NUMBER</th>\n",
       "    </tr>\n",
       "  </thead>\n",
       "  <tbody>\n",
       "    <tr>\n",
       "      <th>0</th>\n",
       "      <td>A.J. Lawson</td>\n",
       "      <td>22</td>\n",
       "      <td>201.168</td>\n",
       "      <td>81.363636</td>\n",
       "      <td>100</td>\n",
       "    </tr>\n",
       "    <tr>\n",
       "      <th>1</th>\n",
       "      <td>AJ Green</td>\n",
       "      <td>23</td>\n",
       "      <td>198.120</td>\n",
       "      <td>86.363636</td>\n",
       "      <td>100</td>\n",
       "    </tr>\n",
       "    <tr>\n",
       "      <th>2</th>\n",
       "      <td>AJ Griffin</td>\n",
       "      <td>19</td>\n",
       "      <td>201.168</td>\n",
       "      <td>100.000000</td>\n",
       "      <td>16</td>\n",
       "    </tr>\n",
       "    <tr>\n",
       "      <th>3</th>\n",
       "      <td>Aaron Gordon</td>\n",
       "      <td>27</td>\n",
       "      <td>207.264</td>\n",
       "      <td>106.818182</td>\n",
       "      <td>4</td>\n",
       "    </tr>\n",
       "    <tr>\n",
       "      <th>4</th>\n",
       "      <td>Aaron Holiday</td>\n",
       "      <td>26</td>\n",
       "      <td>182.880</td>\n",
       "      <td>84.090909</td>\n",
       "      <td>23</td>\n",
       "    </tr>\n",
       "  </tbody>\n",
       "</table>\n",
       "</div>"
      ],
      "text/plain": [
       "          PLAYER  Age   Height      Weight  DRAFT NUMBER\n",
       "0    A.J. Lawson   22  201.168   81.363636           100\n",
       "1       AJ Green   23  198.120   86.363636           100\n",
       "2     AJ Griffin   19  201.168  100.000000            16\n",
       "3   Aaron Gordon   27  207.264  106.818182             4\n",
       "4  Aaron Holiday   26  182.880   84.090909            23"
      ]
     },
     "execution_count": 103,
     "metadata": {},
     "output_type": "execute_result"
    }
   ],
   "source": [
    "## Transformar a coluna \"Height\" em centímetros, assumindo que 1 ft = 30.48 cm:\n",
    "## Transformar a coluna \"Weight\" em quilos, assumindo que 1 kg = 2.20 libras\n",
    "\n",
    "heights = []\n",
    "weights = []\n",
    "\n",
    "for i in range(len(info_players)):\n",
    "    height = float(info_players['Height'][i].replace('-', '.')) * 30.48\n",
    "    heights.append(height)\n",
    "    weight = float(info_players['Weight'][i]) / 2.20\n",
    "    weights.append(weight)\n",
    "\n",
    "info_players['Height'] = heights\n",
    "info_players['Weight'] = weights\n",
    "\n",
    "info_players.head()"
   ]
  },
  {
   "cell_type": "markdown",
   "metadata": {},
   "source": [
    "### fga"
   ]
  },
  {
   "cell_type": "code",
   "execution_count": 104,
   "metadata": {},
   "outputs": [
    {
     "data": {
      "text/html": [
       "<div>\n",
       "<style scoped>\n",
       "    .dataframe tbody tr th:only-of-type {\n",
       "        vertical-align: middle;\n",
       "    }\n",
       "\n",
       "    .dataframe tbody tr th {\n",
       "        vertical-align: top;\n",
       "    }\n",
       "\n",
       "    .dataframe thead th {\n",
       "        text-align: right;\n",
       "    }\n",
       "</style>\n",
       "<table border=\"1\" class=\"dataframe\">\n",
       "  <thead>\n",
       "    <tr style=\"text-align: right;\">\n",
       "      <th></th>\n",
       "      <th>PLAYER</th>\n",
       "      <th>PLAY TYPE</th>\n",
       "      <th>MADE</th>\n",
       "      <th>SHOT TYPE</th>\n",
       "      <th>BOXSCORE</th>\n",
       "      <th>VTM</th>\n",
       "      <th>HTM</th>\n",
       "      <th>Game Date</th>\n",
       "      <th>PERIOD</th>\n",
       "      <th>TIME REMAINING</th>\n",
       "      <th>SHOT DISTANCE (FT)</th>\n",
       "      <th>TEAM</th>\n",
       "    </tr>\n",
       "  </thead>\n",
       "  <tbody>\n",
       "    <tr>\n",
       "      <th>0</th>\n",
       "      <td>Marcus Smart</td>\n",
       "      <td>Driving Floating Bank Jump Shot</td>\n",
       "      <td>✔ Made Shot</td>\n",
       "      <td>2PT Field Goal</td>\n",
       "      <td>PHI @ BOS</td>\n",
       "      <td>PHI</td>\n",
       "      <td>BOS</td>\n",
       "      <td>Tuesday, October 18</td>\n",
       "      <td>1</td>\n",
       "      <td>11:15</td>\n",
       "      <td>13</td>\n",
       "      <td>Boston Celtics</td>\n",
       "    </tr>\n",
       "    <tr>\n",
       "      <th>1</th>\n",
       "      <td>Jayson Tatum</td>\n",
       "      <td>Jump Shot</td>\n",
       "      <td>✔ Made Shot</td>\n",
       "      <td>3PT Field Goal</td>\n",
       "      <td>PHI @ BOS</td>\n",
       "      <td>PHI</td>\n",
       "      <td>BOS</td>\n",
       "      <td>Tuesday, October 18</td>\n",
       "      <td>1</td>\n",
       "      <td>10:46</td>\n",
       "      <td>23</td>\n",
       "      <td>Boston Celtics</td>\n",
       "    </tr>\n",
       "    <tr>\n",
       "      <th>2</th>\n",
       "      <td>Derrick White</td>\n",
       "      <td>Running Layup Shot</td>\n",
       "      <td>✖ Missed Shot</td>\n",
       "      <td>2PT Field Goal</td>\n",
       "      <td>PHI @ BOS</td>\n",
       "      <td>PHI</td>\n",
       "      <td>BOS</td>\n",
       "      <td>Tuesday, October 18</td>\n",
       "      <td>1</td>\n",
       "      <td>10:04</td>\n",
       "      <td>1</td>\n",
       "      <td>Boston Celtics</td>\n",
       "    </tr>\n",
       "    <tr>\n",
       "      <th>3</th>\n",
       "      <td>Al Horford</td>\n",
       "      <td>Cutting Layup Shot</td>\n",
       "      <td>✖ Missed Shot</td>\n",
       "      <td>2PT Field Goal</td>\n",
       "      <td>PHI @ BOS</td>\n",
       "      <td>PHI</td>\n",
       "      <td>BOS</td>\n",
       "      <td>Tuesday, October 18</td>\n",
       "      <td>1</td>\n",
       "      <td>09:53</td>\n",
       "      <td>2</td>\n",
       "      <td>Boston Celtics</td>\n",
       "    </tr>\n",
       "    <tr>\n",
       "      <th>4</th>\n",
       "      <td>Jayson Tatum</td>\n",
       "      <td>Running Layup Shot</td>\n",
       "      <td>✔ Made Shot</td>\n",
       "      <td>2PT Field Goal</td>\n",
       "      <td>PHI @ BOS</td>\n",
       "      <td>PHI</td>\n",
       "      <td>BOS</td>\n",
       "      <td>Tuesday, October 18</td>\n",
       "      <td>1</td>\n",
       "      <td>09:42</td>\n",
       "      <td>0</td>\n",
       "      <td>Boston Celtics</td>\n",
       "    </tr>\n",
       "  </tbody>\n",
       "</table>\n",
       "</div>"
      ],
      "text/plain": [
       "          PLAYER                        PLAY TYPE           MADE  \\\n",
       "0   Marcus Smart  Driving Floating Bank Jump Shot    ✔ Made Shot   \n",
       "1   Jayson Tatum                        Jump Shot    ✔ Made Shot   \n",
       "2  Derrick White               Running Layup Shot  ✖ Missed Shot   \n",
       "3     Al Horford               Cutting Layup Shot  ✖ Missed Shot   \n",
       "4   Jayson Tatum               Running Layup Shot    ✔ Made Shot   \n",
       "\n",
       "        SHOT TYPE   BOXSCORE  VTM  HTM            Game Date  PERIOD  \\\n",
       "0  2PT Field Goal  PHI @ BOS  PHI  BOS  Tuesday, October 18       1   \n",
       "1  3PT Field Goal  PHI @ BOS  PHI  BOS  Tuesday, October 18       1   \n",
       "2  2PT Field Goal  PHI @ BOS  PHI  BOS  Tuesday, October 18       1   \n",
       "3  2PT Field Goal  PHI @ BOS  PHI  BOS  Tuesday, October 18       1   \n",
       "4  2PT Field Goal  PHI @ BOS  PHI  BOS  Tuesday, October 18       1   \n",
       "\n",
       "  TIME REMAINING  SHOT DISTANCE (FT)            TEAM  \n",
       "0          11:15                  13  Boston Celtics  \n",
       "1          10:46                  23  Boston Celtics  \n",
       "2          10:04                   1  Boston Celtics  \n",
       "3          09:53                   2  Boston Celtics  \n",
       "4          09:42                   0  Boston Celtics  "
      ]
     },
     "execution_count": 104,
     "metadata": {},
     "output_type": "execute_result"
    }
   ],
   "source": [
    "fga.head()"
   ]
  },
  {
   "cell_type": "code",
   "execution_count": 105,
   "metadata": {},
   "outputs": [],
   "source": [
    "## 1) Substituir \"✔ Made Shot\" por 1 e \"✘ Missed Shot\" por 0\n",
    "\n",
    "fga['MADE'] = fga['MADE'].replace('✔ Made Shot', 1)\n",
    "fga['MADE'] = fga['MADE'].replace('✖ Missed Shot', 0)"
   ]
  },
  {
   "cell_type": "code",
   "execution_count": 106,
   "metadata": {},
   "outputs": [],
   "source": [
    "## 2) Substituir \"2PT Field Goal\" por 2 e \"3PT Field Goal\" por 3\n",
    "\n",
    "fga['SHOT TYPE'] = fga['SHOT TYPE'].replace('2PT Field Goal', 2)\n",
    "fga['SHOT TYPE'] = fga['SHOT TYPE'].replace('3PT Field Goal', 3)"
   ]
  },
  {
   "cell_type": "code",
   "execution_count": 107,
   "metadata": {},
   "outputs": [
    {
     "data": {
      "text/html": [
       "<div>\n",
       "<style scoped>\n",
       "    .dataframe tbody tr th:only-of-type {\n",
       "        vertical-align: middle;\n",
       "    }\n",
       "\n",
       "    .dataframe tbody tr th {\n",
       "        vertical-align: top;\n",
       "    }\n",
       "\n",
       "    .dataframe thead th {\n",
       "        text-align: right;\n",
       "    }\n",
       "</style>\n",
       "<table border=\"1\" class=\"dataframe\">\n",
       "  <thead>\n",
       "    <tr style=\"text-align: right;\">\n",
       "      <th></th>\n",
       "      <th>PLAYER</th>\n",
       "      <th>PLAY TYPE</th>\n",
       "      <th>MADE</th>\n",
       "      <th>SHOT TYPE</th>\n",
       "      <th>VTM</th>\n",
       "      <th>HTM</th>\n",
       "      <th>PERIOD</th>\n",
       "      <th>TIME REMAINING</th>\n",
       "      <th>SHOT DISTANCE (FT)</th>\n",
       "      <th>TEAM</th>\n",
       "    </tr>\n",
       "  </thead>\n",
       "  <tbody>\n",
       "    <tr>\n",
       "      <th>0</th>\n",
       "      <td>Marcus Smart</td>\n",
       "      <td>Driving Floating Bank Jump Shot</td>\n",
       "      <td>1</td>\n",
       "      <td>2</td>\n",
       "      <td>PHI</td>\n",
       "      <td>BOS</td>\n",
       "      <td>1</td>\n",
       "      <td>11:15</td>\n",
       "      <td>13</td>\n",
       "      <td>Boston Celtics</td>\n",
       "    </tr>\n",
       "    <tr>\n",
       "      <th>1</th>\n",
       "      <td>Jayson Tatum</td>\n",
       "      <td>Jump Shot</td>\n",
       "      <td>1</td>\n",
       "      <td>3</td>\n",
       "      <td>PHI</td>\n",
       "      <td>BOS</td>\n",
       "      <td>1</td>\n",
       "      <td>10:46</td>\n",
       "      <td>23</td>\n",
       "      <td>Boston Celtics</td>\n",
       "    </tr>\n",
       "    <tr>\n",
       "      <th>2</th>\n",
       "      <td>Derrick White</td>\n",
       "      <td>Running Layup Shot</td>\n",
       "      <td>0</td>\n",
       "      <td>2</td>\n",
       "      <td>PHI</td>\n",
       "      <td>BOS</td>\n",
       "      <td>1</td>\n",
       "      <td>10:04</td>\n",
       "      <td>1</td>\n",
       "      <td>Boston Celtics</td>\n",
       "    </tr>\n",
       "    <tr>\n",
       "      <th>3</th>\n",
       "      <td>Al Horford</td>\n",
       "      <td>Cutting Layup Shot</td>\n",
       "      <td>0</td>\n",
       "      <td>2</td>\n",
       "      <td>PHI</td>\n",
       "      <td>BOS</td>\n",
       "      <td>1</td>\n",
       "      <td>09:53</td>\n",
       "      <td>2</td>\n",
       "      <td>Boston Celtics</td>\n",
       "    </tr>\n",
       "    <tr>\n",
       "      <th>4</th>\n",
       "      <td>Jayson Tatum</td>\n",
       "      <td>Running Layup Shot</td>\n",
       "      <td>1</td>\n",
       "      <td>2</td>\n",
       "      <td>PHI</td>\n",
       "      <td>BOS</td>\n",
       "      <td>1</td>\n",
       "      <td>09:42</td>\n",
       "      <td>0</td>\n",
       "      <td>Boston Celtics</td>\n",
       "    </tr>\n",
       "  </tbody>\n",
       "</table>\n",
       "</div>"
      ],
      "text/plain": [
       "          PLAYER                        PLAY TYPE  MADE  SHOT TYPE  VTM  HTM  \\\n",
       "0   Marcus Smart  Driving Floating Bank Jump Shot     1          2  PHI  BOS   \n",
       "1   Jayson Tatum                        Jump Shot     1          3  PHI  BOS   \n",
       "2  Derrick White               Running Layup Shot     0          2  PHI  BOS   \n",
       "3     Al Horford               Cutting Layup Shot     0          2  PHI  BOS   \n",
       "4   Jayson Tatum               Running Layup Shot     1          2  PHI  BOS   \n",
       "\n",
       "   PERIOD TIME REMAINING  SHOT DISTANCE (FT)            TEAM  \n",
       "0       1          11:15                  13  Boston Celtics  \n",
       "1       1          10:46                  23  Boston Celtics  \n",
       "2       1          10:04                   1  Boston Celtics  \n",
       "3       1          09:53                   2  Boston Celtics  \n",
       "4       1          09:42                   0  Boston Celtics  "
      ]
     },
     "execution_count": 107,
     "metadata": {},
     "output_type": "execute_result"
    }
   ],
   "source": [
    "## 3) Retirar colunas descenessárias para o modelo\n",
    "\n",
    "fga.drop('BOXSCORE', axis='columns', inplace=True)\n",
    "fga.drop('Game\\xa0Date', axis='columns', inplace=True)\n",
    "fga.head()"
   ]
  },
  {
   "cell_type": "code",
   "execution_count": 108,
   "metadata": {},
   "outputs": [],
   "source": [
    "## 4) Criar uma coluna para identificar se o time que arremessou é mandante ou visitante da partida\n",
    "## 5) Criar uma coluna para identificar a taxa de vitórias da temporada anterior\n",
    "## 6) Transformar a coluna \"TIME REMAINING\" em segundos\n",
    "\n",
    "is_home = []\n",
    "owr = []\n",
    "blocks = []\n",
    "dwr = []\n",
    "time_remaining = []\n",
    "for i in range(len(fga)):\n",
    "    # 4)\n",
    "    if (cod_teams[cod_teams['name'] == fga['TEAM'][i]][\"cod\"].values[0]) == fga['HTM'][i]:\n",
    "        is_home.append(1)\n",
    "    else:\n",
    "        is_home.append(0)\n",
    "    \n",
    "    # 5)\n",
    "    owr.append(cod_teams[cod_teams['name'] == fga[\"TEAM\"][i]]['win_rate'].values[0])\n",
    "\n",
    "    # 6)\n",
    "    time = fga['TIME REMAINING'][i].split(':')\n",
    "    time_remaining.append(int(time[0])*60 + int(time[1]))\n",
    "\n",
    "\n",
    "fga['is_home'] = is_home\n",
    "fga['off_win_rate'] = owr\n",
    "fga['TIME REMAINING'] = time_remaining"
   ]
  },
  {
   "cell_type": "code",
   "execution_count": 109,
   "metadata": {},
   "outputs": [],
   "source": [
    "## 7) Criar uma coluna com o número de bloqueios da temporada anterior do time defensor\n",
    "## 8) Criar uma coluna com o índice de vitórias do time defensor na temporada anterior\n",
    "\n",
    "dwr = []\n",
    "blocks = []\n",
    "for i in range(len(fga)):\n",
    "    if fga[\"is_home\"][i] == 1:\n",
    "        blocks.append(cod_teams[cod_teams['cod'] == fga[\"VTM\"][i]]['blocks'].values[0])\n",
    "        dwr.append(cod_teams[cod_teams['cod'] == fga[\"VTM\"][i]]['win_rate'].values[0])\n",
    "    else:\n",
    "        blocks.append(cod_teams[cod_teams['cod'] == fga[\"HTM\"][i]]['blocks'].values[0])\n",
    "        dwr.append(cod_teams[cod_teams['cod'] == fga[\"HTM\"][i]]['win_rate'].values[0])\n",
    "\n",
    "fga['def_blocks'] = blocks\n",
    "fga['def_win_rate'] = dwr"
   ]
  },
  {
   "cell_type": "code",
   "execution_count": 110,
   "metadata": {},
   "outputs": [
    {
     "data": {
      "text/html": [
       "<div>\n",
       "<style scoped>\n",
       "    .dataframe tbody tr th:only-of-type {\n",
       "        vertical-align: middle;\n",
       "    }\n",
       "\n",
       "    .dataframe tbody tr th {\n",
       "        vertical-align: top;\n",
       "    }\n",
       "\n",
       "    .dataframe thead th {\n",
       "        text-align: right;\n",
       "    }\n",
       "</style>\n",
       "<table border=\"1\" class=\"dataframe\">\n",
       "  <thead>\n",
       "    <tr style=\"text-align: right;\">\n",
       "      <th></th>\n",
       "      <th>PLAYER</th>\n",
       "      <th>Age</th>\n",
       "      <th>Height</th>\n",
       "      <th>Weight</th>\n",
       "      <th>DRAFT NUMBER</th>\n",
       "    </tr>\n",
       "  </thead>\n",
       "  <tbody>\n",
       "    <tr>\n",
       "      <th>0</th>\n",
       "      <td>A.J. Lawson</td>\n",
       "      <td>22</td>\n",
       "      <td>201.168</td>\n",
       "      <td>81.363636</td>\n",
       "      <td>100</td>\n",
       "    </tr>\n",
       "    <tr>\n",
       "      <th>1</th>\n",
       "      <td>AJ Green</td>\n",
       "      <td>23</td>\n",
       "      <td>198.120</td>\n",
       "      <td>86.363636</td>\n",
       "      <td>100</td>\n",
       "    </tr>\n",
       "    <tr>\n",
       "      <th>2</th>\n",
       "      <td>AJ Griffin</td>\n",
       "      <td>19</td>\n",
       "      <td>201.168</td>\n",
       "      <td>100.000000</td>\n",
       "      <td>16</td>\n",
       "    </tr>\n",
       "    <tr>\n",
       "      <th>3</th>\n",
       "      <td>Aaron Gordon</td>\n",
       "      <td>27</td>\n",
       "      <td>207.264</td>\n",
       "      <td>106.818182</td>\n",
       "      <td>4</td>\n",
       "    </tr>\n",
       "    <tr>\n",
       "      <th>4</th>\n",
       "      <td>Aaron Holiday</td>\n",
       "      <td>26</td>\n",
       "      <td>182.880</td>\n",
       "      <td>84.090909</td>\n",
       "      <td>23</td>\n",
       "    </tr>\n",
       "  </tbody>\n",
       "</table>\n",
       "</div>"
      ],
      "text/plain": [
       "          PLAYER  Age   Height      Weight  DRAFT NUMBER\n",
       "0    A.J. Lawson   22  201.168   81.363636           100\n",
       "1       AJ Green   23  198.120   86.363636           100\n",
       "2     AJ Griffin   19  201.168  100.000000            16\n",
       "3   Aaron Gordon   27  207.264  106.818182             4\n",
       "4  Aaron Holiday   26  182.880   84.090909            23"
      ]
     },
     "execution_count": 110,
     "metadata": {},
     "output_type": "execute_result"
    }
   ],
   "source": [
    "info_players.head()"
   ]
  },
  {
   "cell_type": "code",
   "execution_count": 111,
   "metadata": {},
   "outputs": [
    {
     "data": {
      "text/html": [
       "<div>\n",
       "<style scoped>\n",
       "    .dataframe tbody tr th:only-of-type {\n",
       "        vertical-align: middle;\n",
       "    }\n",
       "\n",
       "    .dataframe tbody tr th {\n",
       "        vertical-align: top;\n",
       "    }\n",
       "\n",
       "    .dataframe thead th {\n",
       "        text-align: right;\n",
       "    }\n",
       "</style>\n",
       "<table border=\"1\" class=\"dataframe\">\n",
       "  <thead>\n",
       "    <tr style=\"text-align: right;\">\n",
       "      <th></th>\n",
       "      <th>PLAYER</th>\n",
       "      <th>PLAY TYPE</th>\n",
       "      <th>MADE</th>\n",
       "      <th>SHOT TYPE</th>\n",
       "      <th>VTM</th>\n",
       "      <th>HTM</th>\n",
       "      <th>PERIOD</th>\n",
       "      <th>TIME REMAINING</th>\n",
       "      <th>SHOT DISTANCE (FT)</th>\n",
       "      <th>TEAM</th>\n",
       "      <th>is_home</th>\n",
       "      <th>off_win_rate</th>\n",
       "      <th>def_blocks</th>\n",
       "      <th>def_win_rate</th>\n",
       "      <th>Age</th>\n",
       "      <th>Height</th>\n",
       "      <th>Weight</th>\n",
       "      <th>DRAFT NUMBER</th>\n",
       "    </tr>\n",
       "  </thead>\n",
       "  <tbody>\n",
       "    <tr>\n",
       "      <th>0</th>\n",
       "      <td>Marcus Smart</td>\n",
       "      <td>Driving Floating Bank Jump Shot</td>\n",
       "      <td>1</td>\n",
       "      <td>2</td>\n",
       "      <td>PHI</td>\n",
       "      <td>BOS</td>\n",
       "      <td>1</td>\n",
       "      <td>675</td>\n",
       "      <td>13</td>\n",
       "      <td>Boston Celtics</td>\n",
       "      <td>1</td>\n",
       "      <td>0.621951</td>\n",
       "      <td>435</td>\n",
       "      <td>0.621951</td>\n",
       "      <td>29</td>\n",
       "      <td>195.072</td>\n",
       "      <td>100.0</td>\n",
       "      <td>6</td>\n",
       "    </tr>\n",
       "    <tr>\n",
       "      <th>1</th>\n",
       "      <td>Marcus Smart</td>\n",
       "      <td>Jump Shot</td>\n",
       "      <td>0</td>\n",
       "      <td>3</td>\n",
       "      <td>PHI</td>\n",
       "      <td>BOS</td>\n",
       "      <td>1</td>\n",
       "      <td>402</td>\n",
       "      <td>22</td>\n",
       "      <td>Boston Celtics</td>\n",
       "      <td>1</td>\n",
       "      <td>0.621951</td>\n",
       "      <td>435</td>\n",
       "      <td>0.621951</td>\n",
       "      <td>29</td>\n",
       "      <td>195.072</td>\n",
       "      <td>100.0</td>\n",
       "      <td>6</td>\n",
       "    </tr>\n",
       "    <tr>\n",
       "      <th>2</th>\n",
       "      <td>Marcus Smart</td>\n",
       "      <td>Driving Floating Jump Shot</td>\n",
       "      <td>0</td>\n",
       "      <td>2</td>\n",
       "      <td>PHI</td>\n",
       "      <td>BOS</td>\n",
       "      <td>1</td>\n",
       "      <td>205</td>\n",
       "      <td>6</td>\n",
       "      <td>Boston Celtics</td>\n",
       "      <td>1</td>\n",
       "      <td>0.621951</td>\n",
       "      <td>435</td>\n",
       "      <td>0.621951</td>\n",
       "      <td>29</td>\n",
       "      <td>195.072</td>\n",
       "      <td>100.0</td>\n",
       "      <td>6</td>\n",
       "    </tr>\n",
       "    <tr>\n",
       "      <th>3</th>\n",
       "      <td>Marcus Smart</td>\n",
       "      <td>Pullup Jump shot</td>\n",
       "      <td>1</td>\n",
       "      <td>2</td>\n",
       "      <td>PHI</td>\n",
       "      <td>BOS</td>\n",
       "      <td>2</td>\n",
       "      <td>453</td>\n",
       "      <td>9</td>\n",
       "      <td>Boston Celtics</td>\n",
       "      <td>1</td>\n",
       "      <td>0.621951</td>\n",
       "      <td>435</td>\n",
       "      <td>0.621951</td>\n",
       "      <td>29</td>\n",
       "      <td>195.072</td>\n",
       "      <td>100.0</td>\n",
       "      <td>6</td>\n",
       "    </tr>\n",
       "    <tr>\n",
       "      <th>4</th>\n",
       "      <td>Marcus Smart</td>\n",
       "      <td>Hook Shot</td>\n",
       "      <td>0</td>\n",
       "      <td>2</td>\n",
       "      <td>PHI</td>\n",
       "      <td>BOS</td>\n",
       "      <td>2</td>\n",
       "      <td>393</td>\n",
       "      <td>6</td>\n",
       "      <td>Boston Celtics</td>\n",
       "      <td>1</td>\n",
       "      <td>0.621951</td>\n",
       "      <td>435</td>\n",
       "      <td>0.621951</td>\n",
       "      <td>29</td>\n",
       "      <td>195.072</td>\n",
       "      <td>100.0</td>\n",
       "      <td>6</td>\n",
       "    </tr>\n",
       "  </tbody>\n",
       "</table>\n",
       "</div>"
      ],
      "text/plain": [
       "         PLAYER                        PLAY TYPE  MADE  SHOT TYPE  VTM  HTM  \\\n",
       "0  Marcus Smart  Driving Floating Bank Jump Shot     1          2  PHI  BOS   \n",
       "1  Marcus Smart                        Jump Shot     0          3  PHI  BOS   \n",
       "2  Marcus Smart       Driving Floating Jump Shot     0          2  PHI  BOS   \n",
       "3  Marcus Smart                 Pullup Jump shot     1          2  PHI  BOS   \n",
       "4  Marcus Smart                        Hook Shot     0          2  PHI  BOS   \n",
       "\n",
       "   PERIOD  TIME REMAINING  SHOT DISTANCE (FT)            TEAM  is_home  \\\n",
       "0       1             675                  13  Boston Celtics        1   \n",
       "1       1             402                  22  Boston Celtics        1   \n",
       "2       1             205                   6  Boston Celtics        1   \n",
       "3       2             453                   9  Boston Celtics        1   \n",
       "4       2             393                   6  Boston Celtics        1   \n",
       "\n",
       "   off_win_rate  def_blocks  def_win_rate  Age   Height  Weight  DRAFT NUMBER  \n",
       "0      0.621951         435      0.621951   29  195.072   100.0             6  \n",
       "1      0.621951         435      0.621951   29  195.072   100.0             6  \n",
       "2      0.621951         435      0.621951   29  195.072   100.0             6  \n",
       "3      0.621951         435      0.621951   29  195.072   100.0             6  \n",
       "4      0.621951         435      0.621951   29  195.072   100.0             6  "
      ]
     },
     "execution_count": 111,
     "metadata": {},
     "output_type": "execute_result"
    }
   ],
   "source": [
    "fga = fga.merge(info_players, on='PLAYER', how='inner')\n",
    "fga.head()"
   ]
  },
  {
   "cell_type": "code",
   "execution_count": 112,
   "metadata": {},
   "outputs": [
    {
     "data": {
      "text/html": [
       "<div>\n",
       "<style scoped>\n",
       "    .dataframe tbody tr th:only-of-type {\n",
       "        vertical-align: middle;\n",
       "    }\n",
       "\n",
       "    .dataframe tbody tr th {\n",
       "        vertical-align: top;\n",
       "    }\n",
       "\n",
       "    .dataframe thead th {\n",
       "        text-align: right;\n",
       "    }\n",
       "</style>\n",
       "<table border=\"1\" class=\"dataframe\">\n",
       "  <thead>\n",
       "    <tr style=\"text-align: right;\">\n",
       "      <th></th>\n",
       "      <th>MADE</th>\n",
       "      <th>SHOT TYPE</th>\n",
       "      <th>PERIOD</th>\n",
       "      <th>TIME REMAINING</th>\n",
       "      <th>SHOT DISTANCE (FT)</th>\n",
       "      <th>TEAM</th>\n",
       "      <th>is_home</th>\n",
       "      <th>off_win_rate</th>\n",
       "      <th>def_blocks</th>\n",
       "      <th>def_win_rate</th>\n",
       "      <th>Age</th>\n",
       "      <th>Height</th>\n",
       "      <th>Weight</th>\n",
       "      <th>DRAFT NUMBER</th>\n",
       "    </tr>\n",
       "  </thead>\n",
       "  <tbody>\n",
       "    <tr>\n",
       "      <th>0</th>\n",
       "      <td>1</td>\n",
       "      <td>2</td>\n",
       "      <td>1</td>\n",
       "      <td>675</td>\n",
       "      <td>13</td>\n",
       "      <td>Boston Celtics</td>\n",
       "      <td>1</td>\n",
       "      <td>0.621951</td>\n",
       "      <td>435</td>\n",
       "      <td>0.621951</td>\n",
       "      <td>29</td>\n",
       "      <td>195.072</td>\n",
       "      <td>100.0</td>\n",
       "      <td>6</td>\n",
       "    </tr>\n",
       "    <tr>\n",
       "      <th>1</th>\n",
       "      <td>0</td>\n",
       "      <td>3</td>\n",
       "      <td>1</td>\n",
       "      <td>402</td>\n",
       "      <td>22</td>\n",
       "      <td>Boston Celtics</td>\n",
       "      <td>1</td>\n",
       "      <td>0.621951</td>\n",
       "      <td>435</td>\n",
       "      <td>0.621951</td>\n",
       "      <td>29</td>\n",
       "      <td>195.072</td>\n",
       "      <td>100.0</td>\n",
       "      <td>6</td>\n",
       "    </tr>\n",
       "    <tr>\n",
       "      <th>2</th>\n",
       "      <td>0</td>\n",
       "      <td>2</td>\n",
       "      <td>1</td>\n",
       "      <td>205</td>\n",
       "      <td>6</td>\n",
       "      <td>Boston Celtics</td>\n",
       "      <td>1</td>\n",
       "      <td>0.621951</td>\n",
       "      <td>435</td>\n",
       "      <td>0.621951</td>\n",
       "      <td>29</td>\n",
       "      <td>195.072</td>\n",
       "      <td>100.0</td>\n",
       "      <td>6</td>\n",
       "    </tr>\n",
       "    <tr>\n",
       "      <th>3</th>\n",
       "      <td>1</td>\n",
       "      <td>2</td>\n",
       "      <td>2</td>\n",
       "      <td>453</td>\n",
       "      <td>9</td>\n",
       "      <td>Boston Celtics</td>\n",
       "      <td>1</td>\n",
       "      <td>0.621951</td>\n",
       "      <td>435</td>\n",
       "      <td>0.621951</td>\n",
       "      <td>29</td>\n",
       "      <td>195.072</td>\n",
       "      <td>100.0</td>\n",
       "      <td>6</td>\n",
       "    </tr>\n",
       "    <tr>\n",
       "      <th>4</th>\n",
       "      <td>0</td>\n",
       "      <td>2</td>\n",
       "      <td>2</td>\n",
       "      <td>393</td>\n",
       "      <td>6</td>\n",
       "      <td>Boston Celtics</td>\n",
       "      <td>1</td>\n",
       "      <td>0.621951</td>\n",
       "      <td>435</td>\n",
       "      <td>0.621951</td>\n",
       "      <td>29</td>\n",
       "      <td>195.072</td>\n",
       "      <td>100.0</td>\n",
       "      <td>6</td>\n",
       "    </tr>\n",
       "  </tbody>\n",
       "</table>\n",
       "</div>"
      ],
      "text/plain": [
       "   MADE  SHOT TYPE  PERIOD  TIME REMAINING  SHOT DISTANCE (FT)  \\\n",
       "0     1          2       1             675                  13   \n",
       "1     0          3       1             402                  22   \n",
       "2     0          2       1             205                   6   \n",
       "3     1          2       2             453                   9   \n",
       "4     0          2       2             393                   6   \n",
       "\n",
       "             TEAM  is_home  off_win_rate  def_blocks  def_win_rate  Age  \\\n",
       "0  Boston Celtics        1      0.621951         435      0.621951   29   \n",
       "1  Boston Celtics        1      0.621951         435      0.621951   29   \n",
       "2  Boston Celtics        1      0.621951         435      0.621951   29   \n",
       "3  Boston Celtics        1      0.621951         435      0.621951   29   \n",
       "4  Boston Celtics        1      0.621951         435      0.621951   29   \n",
       "\n",
       "    Height  Weight  DRAFT NUMBER  \n",
       "0  195.072   100.0             6  \n",
       "1  195.072   100.0             6  \n",
       "2  195.072   100.0             6  \n",
       "3  195.072   100.0             6  \n",
       "4  195.072   100.0             6  "
      ]
     },
     "execution_count": 112,
     "metadata": {},
     "output_type": "execute_result"
    }
   ],
   "source": [
    "## Removendo colunas que não serão utilizadas no modelo\n",
    "fga.drop('PLAYER', axis='columns', inplace=True)\n",
    "fga.drop('PLAY TYPE', axis='columns', inplace=True)\n",
    "fga.drop('HTM', axis='columns', inplace=True)\n",
    "fga.drop('VTM', axis='columns', inplace=True)\n",
    "\n",
    "fga.head()"
   ]
  },
  {
   "cell_type": "markdown",
   "metadata": {},
   "source": [
    "## Análise exploratória"
   ]
  },
  {
   "cell_type": "code",
   "execution_count": 113,
   "metadata": {},
   "outputs": [
    {
     "data": {
      "application/vnd.plotly.v1+json": {
       "config": {
        "plotlyServerURL": "https://plot.ly"
       },
       "data": [
        {
         "alignmentgroup": "True",
         "hovertemplate": "x=%{x}<br>y=%{y}<extra></extra>",
         "legendgroup": "",
         "marker": {
          "color": "#636efa",
          "pattern": {
           "shape": ""
          }
         },
         "name": "",
         "offsetgroup": "",
         "orientation": "v",
         "showlegend": false,
         "textposition": "outside",
         "texttemplate": "%{value}",
         "type": "bar",
         "x": [
          "Oklahoma City Thunder",
          "Atlanta Hawks",
          "Memphis Grizzlies",
          "Toronto Raptors",
          "Charlotte Hornets"
         ],
         "xaxis": "x",
         "y": [
          7590,
          7574,
          7551,
          7489,
          7413
         ],
         "yaxis": "y"
        }
       ],
       "layout": {
        "barmode": "relative",
        "legend": {
         "tracegroupgap": 0
        },
        "template": {
         "data": {
          "bar": [
           {
            "error_x": {
             "color": "#2a3f5f"
            },
            "error_y": {
             "color": "#2a3f5f"
            },
            "marker": {
             "line": {
              "color": "#E5ECF6",
              "width": 0.5
             },
             "pattern": {
              "fillmode": "overlay",
              "size": 10,
              "solidity": 0.2
             }
            },
            "type": "bar"
           }
          ],
          "barpolar": [
           {
            "marker": {
             "line": {
              "color": "#E5ECF6",
              "width": 0.5
             },
             "pattern": {
              "fillmode": "overlay",
              "size": 10,
              "solidity": 0.2
             }
            },
            "type": "barpolar"
           }
          ],
          "carpet": [
           {
            "aaxis": {
             "endlinecolor": "#2a3f5f",
             "gridcolor": "white",
             "linecolor": "white",
             "minorgridcolor": "white",
             "startlinecolor": "#2a3f5f"
            },
            "baxis": {
             "endlinecolor": "#2a3f5f",
             "gridcolor": "white",
             "linecolor": "white",
             "minorgridcolor": "white",
             "startlinecolor": "#2a3f5f"
            },
            "type": "carpet"
           }
          ],
          "choropleth": [
           {
            "colorbar": {
             "outlinewidth": 0,
             "ticks": ""
            },
            "type": "choropleth"
           }
          ],
          "contour": [
           {
            "colorbar": {
             "outlinewidth": 0,
             "ticks": ""
            },
            "colorscale": [
             [
              0,
              "#0d0887"
             ],
             [
              0.1111111111111111,
              "#46039f"
             ],
             [
              0.2222222222222222,
              "#7201a8"
             ],
             [
              0.3333333333333333,
              "#9c179e"
             ],
             [
              0.4444444444444444,
              "#bd3786"
             ],
             [
              0.5555555555555556,
              "#d8576b"
             ],
             [
              0.6666666666666666,
              "#ed7953"
             ],
             [
              0.7777777777777778,
              "#fb9f3a"
             ],
             [
              0.8888888888888888,
              "#fdca26"
             ],
             [
              1,
              "#f0f921"
             ]
            ],
            "type": "contour"
           }
          ],
          "contourcarpet": [
           {
            "colorbar": {
             "outlinewidth": 0,
             "ticks": ""
            },
            "type": "contourcarpet"
           }
          ],
          "heatmap": [
           {
            "colorbar": {
             "outlinewidth": 0,
             "ticks": ""
            },
            "colorscale": [
             [
              0,
              "#0d0887"
             ],
             [
              0.1111111111111111,
              "#46039f"
             ],
             [
              0.2222222222222222,
              "#7201a8"
             ],
             [
              0.3333333333333333,
              "#9c179e"
             ],
             [
              0.4444444444444444,
              "#bd3786"
             ],
             [
              0.5555555555555556,
              "#d8576b"
             ],
             [
              0.6666666666666666,
              "#ed7953"
             ],
             [
              0.7777777777777778,
              "#fb9f3a"
             ],
             [
              0.8888888888888888,
              "#fdca26"
             ],
             [
              1,
              "#f0f921"
             ]
            ],
            "type": "heatmap"
           }
          ],
          "heatmapgl": [
           {
            "colorbar": {
             "outlinewidth": 0,
             "ticks": ""
            },
            "colorscale": [
             [
              0,
              "#0d0887"
             ],
             [
              0.1111111111111111,
              "#46039f"
             ],
             [
              0.2222222222222222,
              "#7201a8"
             ],
             [
              0.3333333333333333,
              "#9c179e"
             ],
             [
              0.4444444444444444,
              "#bd3786"
             ],
             [
              0.5555555555555556,
              "#d8576b"
             ],
             [
              0.6666666666666666,
              "#ed7953"
             ],
             [
              0.7777777777777778,
              "#fb9f3a"
             ],
             [
              0.8888888888888888,
              "#fdca26"
             ],
             [
              1,
              "#f0f921"
             ]
            ],
            "type": "heatmapgl"
           }
          ],
          "histogram": [
           {
            "marker": {
             "pattern": {
              "fillmode": "overlay",
              "size": 10,
              "solidity": 0.2
             }
            },
            "type": "histogram"
           }
          ],
          "histogram2d": [
           {
            "colorbar": {
             "outlinewidth": 0,
             "ticks": ""
            },
            "colorscale": [
             [
              0,
              "#0d0887"
             ],
             [
              0.1111111111111111,
              "#46039f"
             ],
             [
              0.2222222222222222,
              "#7201a8"
             ],
             [
              0.3333333333333333,
              "#9c179e"
             ],
             [
              0.4444444444444444,
              "#bd3786"
             ],
             [
              0.5555555555555556,
              "#d8576b"
             ],
             [
              0.6666666666666666,
              "#ed7953"
             ],
             [
              0.7777777777777778,
              "#fb9f3a"
             ],
             [
              0.8888888888888888,
              "#fdca26"
             ],
             [
              1,
              "#f0f921"
             ]
            ],
            "type": "histogram2d"
           }
          ],
          "histogram2dcontour": [
           {
            "colorbar": {
             "outlinewidth": 0,
             "ticks": ""
            },
            "colorscale": [
             [
              0,
              "#0d0887"
             ],
             [
              0.1111111111111111,
              "#46039f"
             ],
             [
              0.2222222222222222,
              "#7201a8"
             ],
             [
              0.3333333333333333,
              "#9c179e"
             ],
             [
              0.4444444444444444,
              "#bd3786"
             ],
             [
              0.5555555555555556,
              "#d8576b"
             ],
             [
              0.6666666666666666,
              "#ed7953"
             ],
             [
              0.7777777777777778,
              "#fb9f3a"
             ],
             [
              0.8888888888888888,
              "#fdca26"
             ],
             [
              1,
              "#f0f921"
             ]
            ],
            "type": "histogram2dcontour"
           }
          ],
          "mesh3d": [
           {
            "colorbar": {
             "outlinewidth": 0,
             "ticks": ""
            },
            "type": "mesh3d"
           }
          ],
          "parcoords": [
           {
            "line": {
             "colorbar": {
              "outlinewidth": 0,
              "ticks": ""
             }
            },
            "type": "parcoords"
           }
          ],
          "pie": [
           {
            "automargin": true,
            "type": "pie"
           }
          ],
          "scatter": [
           {
            "fillpattern": {
             "fillmode": "overlay",
             "size": 10,
             "solidity": 0.2
            },
            "type": "scatter"
           }
          ],
          "scatter3d": [
           {
            "line": {
             "colorbar": {
              "outlinewidth": 0,
              "ticks": ""
             }
            },
            "marker": {
             "colorbar": {
              "outlinewidth": 0,
              "ticks": ""
             }
            },
            "type": "scatter3d"
           }
          ],
          "scattercarpet": [
           {
            "marker": {
             "colorbar": {
              "outlinewidth": 0,
              "ticks": ""
             }
            },
            "type": "scattercarpet"
           }
          ],
          "scattergeo": [
           {
            "marker": {
             "colorbar": {
              "outlinewidth": 0,
              "ticks": ""
             }
            },
            "type": "scattergeo"
           }
          ],
          "scattergl": [
           {
            "marker": {
             "colorbar": {
              "outlinewidth": 0,
              "ticks": ""
             }
            },
            "type": "scattergl"
           }
          ],
          "scattermapbox": [
           {
            "marker": {
             "colorbar": {
              "outlinewidth": 0,
              "ticks": ""
             }
            },
            "type": "scattermapbox"
           }
          ],
          "scatterpolar": [
           {
            "marker": {
             "colorbar": {
              "outlinewidth": 0,
              "ticks": ""
             }
            },
            "type": "scatterpolar"
           }
          ],
          "scatterpolargl": [
           {
            "marker": {
             "colorbar": {
              "outlinewidth": 0,
              "ticks": ""
             }
            },
            "type": "scatterpolargl"
           }
          ],
          "scatterternary": [
           {
            "marker": {
             "colorbar": {
              "outlinewidth": 0,
              "ticks": ""
             }
            },
            "type": "scatterternary"
           }
          ],
          "surface": [
           {
            "colorbar": {
             "outlinewidth": 0,
             "ticks": ""
            },
            "colorscale": [
             [
              0,
              "#0d0887"
             ],
             [
              0.1111111111111111,
              "#46039f"
             ],
             [
              0.2222222222222222,
              "#7201a8"
             ],
             [
              0.3333333333333333,
              "#9c179e"
             ],
             [
              0.4444444444444444,
              "#bd3786"
             ],
             [
              0.5555555555555556,
              "#d8576b"
             ],
             [
              0.6666666666666666,
              "#ed7953"
             ],
             [
              0.7777777777777778,
              "#fb9f3a"
             ],
             [
              0.8888888888888888,
              "#fdca26"
             ],
             [
              1,
              "#f0f921"
             ]
            ],
            "type": "surface"
           }
          ],
          "table": [
           {
            "cells": {
             "fill": {
              "color": "#EBF0F8"
             },
             "line": {
              "color": "white"
             }
            },
            "header": {
             "fill": {
              "color": "#C8D4E3"
             },
             "line": {
              "color": "white"
             }
            },
            "type": "table"
           }
          ]
         },
         "layout": {
          "annotationdefaults": {
           "arrowcolor": "#2a3f5f",
           "arrowhead": 0,
           "arrowwidth": 1
          },
          "autotypenumbers": "strict",
          "coloraxis": {
           "colorbar": {
            "outlinewidth": 0,
            "ticks": ""
           }
          },
          "colorscale": {
           "diverging": [
            [
             0,
             "#8e0152"
            ],
            [
             0.1,
             "#c51b7d"
            ],
            [
             0.2,
             "#de77ae"
            ],
            [
             0.3,
             "#f1b6da"
            ],
            [
             0.4,
             "#fde0ef"
            ],
            [
             0.5,
             "#f7f7f7"
            ],
            [
             0.6,
             "#e6f5d0"
            ],
            [
             0.7,
             "#b8e186"
            ],
            [
             0.8,
             "#7fbc41"
            ],
            [
             0.9,
             "#4d9221"
            ],
            [
             1,
             "#276419"
            ]
           ],
           "sequential": [
            [
             0,
             "#0d0887"
            ],
            [
             0.1111111111111111,
             "#46039f"
            ],
            [
             0.2222222222222222,
             "#7201a8"
            ],
            [
             0.3333333333333333,
             "#9c179e"
            ],
            [
             0.4444444444444444,
             "#bd3786"
            ],
            [
             0.5555555555555556,
             "#d8576b"
            ],
            [
             0.6666666666666666,
             "#ed7953"
            ],
            [
             0.7777777777777778,
             "#fb9f3a"
            ],
            [
             0.8888888888888888,
             "#fdca26"
            ],
            [
             1,
             "#f0f921"
            ]
           ],
           "sequentialminus": [
            [
             0,
             "#0d0887"
            ],
            [
             0.1111111111111111,
             "#46039f"
            ],
            [
             0.2222222222222222,
             "#7201a8"
            ],
            [
             0.3333333333333333,
             "#9c179e"
            ],
            [
             0.4444444444444444,
             "#bd3786"
            ],
            [
             0.5555555555555556,
             "#d8576b"
            ],
            [
             0.6666666666666666,
             "#ed7953"
            ],
            [
             0.7777777777777778,
             "#fb9f3a"
            ],
            [
             0.8888888888888888,
             "#fdca26"
            ],
            [
             1,
             "#f0f921"
            ]
           ]
          },
          "colorway": [
           "#636efa",
           "#EF553B",
           "#00cc96",
           "#ab63fa",
           "#FFA15A",
           "#19d3f3",
           "#FF6692",
           "#B6E880",
           "#FF97FF",
           "#FECB52"
          ],
          "font": {
           "color": "#2a3f5f"
          },
          "geo": {
           "bgcolor": "white",
           "lakecolor": "white",
           "landcolor": "#E5ECF6",
           "showlakes": true,
           "showland": true,
           "subunitcolor": "white"
          },
          "hoverlabel": {
           "align": "left"
          },
          "hovermode": "closest",
          "mapbox": {
           "style": "light"
          },
          "paper_bgcolor": "white",
          "plot_bgcolor": "#E5ECF6",
          "polar": {
           "angularaxis": {
            "gridcolor": "white",
            "linecolor": "white",
            "ticks": ""
           },
           "bgcolor": "#E5ECF6",
           "radialaxis": {
            "gridcolor": "white",
            "linecolor": "white",
            "ticks": ""
           }
          },
          "scene": {
           "xaxis": {
            "backgroundcolor": "#E5ECF6",
            "gridcolor": "white",
            "gridwidth": 2,
            "linecolor": "white",
            "showbackground": true,
            "ticks": "",
            "zerolinecolor": "white"
           },
           "yaxis": {
            "backgroundcolor": "#E5ECF6",
            "gridcolor": "white",
            "gridwidth": 2,
            "linecolor": "white",
            "showbackground": true,
            "ticks": "",
            "zerolinecolor": "white"
           },
           "zaxis": {
            "backgroundcolor": "#E5ECF6",
            "gridcolor": "white",
            "gridwidth": 2,
            "linecolor": "white",
            "showbackground": true,
            "ticks": "",
            "zerolinecolor": "white"
           }
          },
          "shapedefaults": {
           "line": {
            "color": "#2a3f5f"
           }
          },
          "ternary": {
           "aaxis": {
            "gridcolor": "white",
            "linecolor": "white",
            "ticks": ""
           },
           "baxis": {
            "gridcolor": "white",
            "linecolor": "white",
            "ticks": ""
           },
           "bgcolor": "#E5ECF6",
           "caxis": {
            "gridcolor": "white",
            "linecolor": "white",
            "ticks": ""
           }
          },
          "title": {
           "x": 0.05
          },
          "xaxis": {
           "automargin": true,
           "gridcolor": "white",
           "linecolor": "white",
           "ticks": "",
           "title": {
            "standoff": 15
           },
           "zerolinecolor": "white",
           "zerolinewidth": 2
          },
          "yaxis": {
           "automargin": true,
           "gridcolor": "white",
           "linecolor": "white",
           "ticks": "",
           "title": {
            "standoff": 15
           },
           "zerolinecolor": "white",
           "zerolinewidth": 2
          }
         }
        },
        "title": {
         "text": "Times que mais arriscam arremessos"
        },
        "xaxis": {
         "anchor": "y",
         "domain": [
          0,
          1
         ],
         "title": {
          "text": "Times"
         }
        },
        "yaxis": {
         "anchor": "x",
         "domain": [
          0,
          1
         ],
         "range": [
          7000,
          8000
         ],
         "title": {
          "text": "Número de arremessos"
         }
        }
       }
      }
     },
     "metadata": {},
     "output_type": "display_data"
    }
   ],
   "source": [
    "import plotly.express as px\n",
    "\n",
    "## Quais são os times que mais arriscam arremessos?\n",
    "\n",
    "fig = px.bar(fga.value_counts('TEAM').head(5), x=fga.value_counts('TEAM').head(5).index, y=fga.value_counts('TEAM').head(5).values, title='Times que mais arriscam arremessos')\n",
    "fig.update_layout(xaxis_title=\"Times\", yaxis_title=\"Número de arremessos\")\n",
    "fig.update_yaxes(range=[7000, 8000])\n",
    "fig.update_traces(texttemplate='%{value}', textposition='outside')\n",
    "fig.show()\n"
   ]
  },
  {
   "cell_type": "code",
   "execution_count": 114,
   "metadata": {},
   "outputs": [
    {
     "data": {
      "application/vnd.plotly.v1+json": {
       "config": {
        "plotlyServerURL": "https://plot.ly"
       },
       "data": [
        {
         "alignmentgroup": "True",
         "hovertemplate": "x=%{x}<br>y=%{y}<extra></extra>",
         "legendgroup": "",
         "marker": {
          "color": "#636efa",
          "pattern": {
           "shape": ""
          }
         },
         "name": "",
         "offsetgroup": "",
         "orientation": "v",
         "showlegend": false,
         "textposition": "outside",
         "texttemplate": "%{value}",
         "type": "bar",
         "x": [
          "Atlanta Hawks",
          "Memphis Grizzlies",
          "Denver Nuggets",
          "Sacramento Kings",
          "Golden State Warriors"
         ],
         "xaxis": "x",
         "y": [
          3658,
          3585,
          3574,
          3573,
          3538
         ],
         "yaxis": "y"
        }
       ],
       "layout": {
        "barmode": "relative",
        "legend": {
         "tracegroupgap": 0
        },
        "template": {
         "data": {
          "bar": [
           {
            "error_x": {
             "color": "#2a3f5f"
            },
            "error_y": {
             "color": "#2a3f5f"
            },
            "marker": {
             "line": {
              "color": "#E5ECF6",
              "width": 0.5
             },
             "pattern": {
              "fillmode": "overlay",
              "size": 10,
              "solidity": 0.2
             }
            },
            "type": "bar"
           }
          ],
          "barpolar": [
           {
            "marker": {
             "line": {
              "color": "#E5ECF6",
              "width": 0.5
             },
             "pattern": {
              "fillmode": "overlay",
              "size": 10,
              "solidity": 0.2
             }
            },
            "type": "barpolar"
           }
          ],
          "carpet": [
           {
            "aaxis": {
             "endlinecolor": "#2a3f5f",
             "gridcolor": "white",
             "linecolor": "white",
             "minorgridcolor": "white",
             "startlinecolor": "#2a3f5f"
            },
            "baxis": {
             "endlinecolor": "#2a3f5f",
             "gridcolor": "white",
             "linecolor": "white",
             "minorgridcolor": "white",
             "startlinecolor": "#2a3f5f"
            },
            "type": "carpet"
           }
          ],
          "choropleth": [
           {
            "colorbar": {
             "outlinewidth": 0,
             "ticks": ""
            },
            "type": "choropleth"
           }
          ],
          "contour": [
           {
            "colorbar": {
             "outlinewidth": 0,
             "ticks": ""
            },
            "colorscale": [
             [
              0,
              "#0d0887"
             ],
             [
              0.1111111111111111,
              "#46039f"
             ],
             [
              0.2222222222222222,
              "#7201a8"
             ],
             [
              0.3333333333333333,
              "#9c179e"
             ],
             [
              0.4444444444444444,
              "#bd3786"
             ],
             [
              0.5555555555555556,
              "#d8576b"
             ],
             [
              0.6666666666666666,
              "#ed7953"
             ],
             [
              0.7777777777777778,
              "#fb9f3a"
             ],
             [
              0.8888888888888888,
              "#fdca26"
             ],
             [
              1,
              "#f0f921"
             ]
            ],
            "type": "contour"
           }
          ],
          "contourcarpet": [
           {
            "colorbar": {
             "outlinewidth": 0,
             "ticks": ""
            },
            "type": "contourcarpet"
           }
          ],
          "heatmap": [
           {
            "colorbar": {
             "outlinewidth": 0,
             "ticks": ""
            },
            "colorscale": [
             [
              0,
              "#0d0887"
             ],
             [
              0.1111111111111111,
              "#46039f"
             ],
             [
              0.2222222222222222,
              "#7201a8"
             ],
             [
              0.3333333333333333,
              "#9c179e"
             ],
             [
              0.4444444444444444,
              "#bd3786"
             ],
             [
              0.5555555555555556,
              "#d8576b"
             ],
             [
              0.6666666666666666,
              "#ed7953"
             ],
             [
              0.7777777777777778,
              "#fb9f3a"
             ],
             [
              0.8888888888888888,
              "#fdca26"
             ],
             [
              1,
              "#f0f921"
             ]
            ],
            "type": "heatmap"
           }
          ],
          "heatmapgl": [
           {
            "colorbar": {
             "outlinewidth": 0,
             "ticks": ""
            },
            "colorscale": [
             [
              0,
              "#0d0887"
             ],
             [
              0.1111111111111111,
              "#46039f"
             ],
             [
              0.2222222222222222,
              "#7201a8"
             ],
             [
              0.3333333333333333,
              "#9c179e"
             ],
             [
              0.4444444444444444,
              "#bd3786"
             ],
             [
              0.5555555555555556,
              "#d8576b"
             ],
             [
              0.6666666666666666,
              "#ed7953"
             ],
             [
              0.7777777777777778,
              "#fb9f3a"
             ],
             [
              0.8888888888888888,
              "#fdca26"
             ],
             [
              1,
              "#f0f921"
             ]
            ],
            "type": "heatmapgl"
           }
          ],
          "histogram": [
           {
            "marker": {
             "pattern": {
              "fillmode": "overlay",
              "size": 10,
              "solidity": 0.2
             }
            },
            "type": "histogram"
           }
          ],
          "histogram2d": [
           {
            "colorbar": {
             "outlinewidth": 0,
             "ticks": ""
            },
            "colorscale": [
             [
              0,
              "#0d0887"
             ],
             [
              0.1111111111111111,
              "#46039f"
             ],
             [
              0.2222222222222222,
              "#7201a8"
             ],
             [
              0.3333333333333333,
              "#9c179e"
             ],
             [
              0.4444444444444444,
              "#bd3786"
             ],
             [
              0.5555555555555556,
              "#d8576b"
             ],
             [
              0.6666666666666666,
              "#ed7953"
             ],
             [
              0.7777777777777778,
              "#fb9f3a"
             ],
             [
              0.8888888888888888,
              "#fdca26"
             ],
             [
              1,
              "#f0f921"
             ]
            ],
            "type": "histogram2d"
           }
          ],
          "histogram2dcontour": [
           {
            "colorbar": {
             "outlinewidth": 0,
             "ticks": ""
            },
            "colorscale": [
             [
              0,
              "#0d0887"
             ],
             [
              0.1111111111111111,
              "#46039f"
             ],
             [
              0.2222222222222222,
              "#7201a8"
             ],
             [
              0.3333333333333333,
              "#9c179e"
             ],
             [
              0.4444444444444444,
              "#bd3786"
             ],
             [
              0.5555555555555556,
              "#d8576b"
             ],
             [
              0.6666666666666666,
              "#ed7953"
             ],
             [
              0.7777777777777778,
              "#fb9f3a"
             ],
             [
              0.8888888888888888,
              "#fdca26"
             ],
             [
              1,
              "#f0f921"
             ]
            ],
            "type": "histogram2dcontour"
           }
          ],
          "mesh3d": [
           {
            "colorbar": {
             "outlinewidth": 0,
             "ticks": ""
            },
            "type": "mesh3d"
           }
          ],
          "parcoords": [
           {
            "line": {
             "colorbar": {
              "outlinewidth": 0,
              "ticks": ""
             }
            },
            "type": "parcoords"
           }
          ],
          "pie": [
           {
            "automargin": true,
            "type": "pie"
           }
          ],
          "scatter": [
           {
            "fillpattern": {
             "fillmode": "overlay",
             "size": 10,
             "solidity": 0.2
            },
            "type": "scatter"
           }
          ],
          "scatter3d": [
           {
            "line": {
             "colorbar": {
              "outlinewidth": 0,
              "ticks": ""
             }
            },
            "marker": {
             "colorbar": {
              "outlinewidth": 0,
              "ticks": ""
             }
            },
            "type": "scatter3d"
           }
          ],
          "scattercarpet": [
           {
            "marker": {
             "colorbar": {
              "outlinewidth": 0,
              "ticks": ""
             }
            },
            "type": "scattercarpet"
           }
          ],
          "scattergeo": [
           {
            "marker": {
             "colorbar": {
              "outlinewidth": 0,
              "ticks": ""
             }
            },
            "type": "scattergeo"
           }
          ],
          "scattergl": [
           {
            "marker": {
             "colorbar": {
              "outlinewidth": 0,
              "ticks": ""
             }
            },
            "type": "scattergl"
           }
          ],
          "scattermapbox": [
           {
            "marker": {
             "colorbar": {
              "outlinewidth": 0,
              "ticks": ""
             }
            },
            "type": "scattermapbox"
           }
          ],
          "scatterpolar": [
           {
            "marker": {
             "colorbar": {
              "outlinewidth": 0,
              "ticks": ""
             }
            },
            "type": "scatterpolar"
           }
          ],
          "scatterpolargl": [
           {
            "marker": {
             "colorbar": {
              "outlinewidth": 0,
              "ticks": ""
             }
            },
            "type": "scatterpolargl"
           }
          ],
          "scatterternary": [
           {
            "marker": {
             "colorbar": {
              "outlinewidth": 0,
              "ticks": ""
             }
            },
            "type": "scatterternary"
           }
          ],
          "surface": [
           {
            "colorbar": {
             "outlinewidth": 0,
             "ticks": ""
            },
            "colorscale": [
             [
              0,
              "#0d0887"
             ],
             [
              0.1111111111111111,
              "#46039f"
             ],
             [
              0.2222222222222222,
              "#7201a8"
             ],
             [
              0.3333333333333333,
              "#9c179e"
             ],
             [
              0.4444444444444444,
              "#bd3786"
             ],
             [
              0.5555555555555556,
              "#d8576b"
             ],
             [
              0.6666666666666666,
              "#ed7953"
             ],
             [
              0.7777777777777778,
              "#fb9f3a"
             ],
             [
              0.8888888888888888,
              "#fdca26"
             ],
             [
              1,
              "#f0f921"
             ]
            ],
            "type": "surface"
           }
          ],
          "table": [
           {
            "cells": {
             "fill": {
              "color": "#EBF0F8"
             },
             "line": {
              "color": "white"
             }
            },
            "header": {
             "fill": {
              "color": "#C8D4E3"
             },
             "line": {
              "color": "white"
             }
            },
            "type": "table"
           }
          ]
         },
         "layout": {
          "annotationdefaults": {
           "arrowcolor": "#2a3f5f",
           "arrowhead": 0,
           "arrowwidth": 1
          },
          "autotypenumbers": "strict",
          "coloraxis": {
           "colorbar": {
            "outlinewidth": 0,
            "ticks": ""
           }
          },
          "colorscale": {
           "diverging": [
            [
             0,
             "#8e0152"
            ],
            [
             0.1,
             "#c51b7d"
            ],
            [
             0.2,
             "#de77ae"
            ],
            [
             0.3,
             "#f1b6da"
            ],
            [
             0.4,
             "#fde0ef"
            ],
            [
             0.5,
             "#f7f7f7"
            ],
            [
             0.6,
             "#e6f5d0"
            ],
            [
             0.7,
             "#b8e186"
            ],
            [
             0.8,
             "#7fbc41"
            ],
            [
             0.9,
             "#4d9221"
            ],
            [
             1,
             "#276419"
            ]
           ],
           "sequential": [
            [
             0,
             "#0d0887"
            ],
            [
             0.1111111111111111,
             "#46039f"
            ],
            [
             0.2222222222222222,
             "#7201a8"
            ],
            [
             0.3333333333333333,
             "#9c179e"
            ],
            [
             0.4444444444444444,
             "#bd3786"
            ],
            [
             0.5555555555555556,
             "#d8576b"
            ],
            [
             0.6666666666666666,
             "#ed7953"
            ],
            [
             0.7777777777777778,
             "#fb9f3a"
            ],
            [
             0.8888888888888888,
             "#fdca26"
            ],
            [
             1,
             "#f0f921"
            ]
           ],
           "sequentialminus": [
            [
             0,
             "#0d0887"
            ],
            [
             0.1111111111111111,
             "#46039f"
            ],
            [
             0.2222222222222222,
             "#7201a8"
            ],
            [
             0.3333333333333333,
             "#9c179e"
            ],
            [
             0.4444444444444444,
             "#bd3786"
            ],
            [
             0.5555555555555556,
             "#d8576b"
            ],
            [
             0.6666666666666666,
             "#ed7953"
            ],
            [
             0.7777777777777778,
             "#fb9f3a"
            ],
            [
             0.8888888888888888,
             "#fdca26"
            ],
            [
             1,
             "#f0f921"
            ]
           ]
          },
          "colorway": [
           "#636efa",
           "#EF553B",
           "#00cc96",
           "#ab63fa",
           "#FFA15A",
           "#19d3f3",
           "#FF6692",
           "#B6E880",
           "#FF97FF",
           "#FECB52"
          ],
          "font": {
           "color": "#2a3f5f"
          },
          "geo": {
           "bgcolor": "white",
           "lakecolor": "white",
           "landcolor": "#E5ECF6",
           "showlakes": true,
           "showland": true,
           "subunitcolor": "white"
          },
          "hoverlabel": {
           "align": "left"
          },
          "hovermode": "closest",
          "mapbox": {
           "style": "light"
          },
          "paper_bgcolor": "white",
          "plot_bgcolor": "#E5ECF6",
          "polar": {
           "angularaxis": {
            "gridcolor": "white",
            "linecolor": "white",
            "ticks": ""
           },
           "bgcolor": "#E5ECF6",
           "radialaxis": {
            "gridcolor": "white",
            "linecolor": "white",
            "ticks": ""
           }
          },
          "scene": {
           "xaxis": {
            "backgroundcolor": "#E5ECF6",
            "gridcolor": "white",
            "gridwidth": 2,
            "linecolor": "white",
            "showbackground": true,
            "ticks": "",
            "zerolinecolor": "white"
           },
           "yaxis": {
            "backgroundcolor": "#E5ECF6",
            "gridcolor": "white",
            "gridwidth": 2,
            "linecolor": "white",
            "showbackground": true,
            "ticks": "",
            "zerolinecolor": "white"
           },
           "zaxis": {
            "backgroundcolor": "#E5ECF6",
            "gridcolor": "white",
            "gridwidth": 2,
            "linecolor": "white",
            "showbackground": true,
            "ticks": "",
            "zerolinecolor": "white"
           }
          },
          "shapedefaults": {
           "line": {
            "color": "#2a3f5f"
           }
          },
          "ternary": {
           "aaxis": {
            "gridcolor": "white",
            "linecolor": "white",
            "ticks": ""
           },
           "baxis": {
            "gridcolor": "white",
            "linecolor": "white",
            "ticks": ""
           },
           "bgcolor": "#E5ECF6",
           "caxis": {
            "gridcolor": "white",
            "linecolor": "white",
            "ticks": ""
           }
          },
          "title": {
           "x": 0.05
          },
          "xaxis": {
           "automargin": true,
           "gridcolor": "white",
           "linecolor": "white",
           "ticks": "",
           "title": {
            "standoff": 15
           },
           "zerolinecolor": "white",
           "zerolinewidth": 2
          },
          "yaxis": {
           "automargin": true,
           "gridcolor": "white",
           "linecolor": "white",
           "ticks": "",
           "title": {
            "standoff": 15
           },
           "zerolinecolor": "white",
           "zerolinewidth": 2
          }
         }
        },
        "title": {
         "text": "Times que mais possuem arremessos convertidos"
        },
        "xaxis": {
         "anchor": "y",
         "domain": [
          0,
          1
         ],
         "title": {
          "text": "Times"
         }
        },
        "yaxis": {
         "anchor": "x",
         "domain": [
          0,
          1
         ],
         "range": [
          3000,
          4000
         ],
         "title": {
          "text": "Número de arremessos convertidos"
         }
        }
       }
      }
     },
     "metadata": {},
     "output_type": "display_data"
    }
   ],
   "source": [
    "## E os que mais possuem arremessos convertidos?\n",
    "\n",
    "fig = px.bar(fga[fga[\"MADE\"] == 1].value_counts('TEAM').head(5), x=fga[fga[\"MADE\"] == 1].value_counts('TEAM').head(5).index, y=fga[fga[\"MADE\"] == 1].value_counts('TEAM').head(5).values, title='Times que mais possuem arremessos convertidos')\n",
    "fig.update_layout(xaxis_title=\"Times\", yaxis_title=\"Número de arremessos convertidos\")\n",
    "fig.update_yaxes(range=[3000, 4000])\n",
    "fig.update_traces(texttemplate='%{value}', textposition='outside')\n",
    "fig.show()"
   ]
  },
  {
   "cell_type": "code",
   "execution_count": 115,
   "metadata": {},
   "outputs": [
    {
     "data": {
      "application/vnd.plotly.v1+json": {
       "config": {
        "plotlyServerURL": "https://plot.ly"
       },
       "data": [
        {
         "alignmentgroup": "True",
         "hovertemplate": "x=%{x}<br>y=%{y}<extra></extra>",
         "legendgroup": "",
         "marker": {
          "color": "#636efa",
          "pattern": {
           "shape": ""
          }
         },
         "name": "",
         "offsetgroup": "",
         "orientation": "v",
         "showlegend": false,
         "textposition": "outside",
         "texttemplate": "%{value}",
         "type": "bar",
         "x": [
          "Orlando Magic",
          "Portland Trail Blazers",
          "Dallas Mavericks",
          "Detroit Pistons",
          "Miami Heat"
         ],
         "xaxis": "x",
         "y": [
          3323,
          3317,
          3283,
          3244,
          3215
         ],
         "yaxis": "y"
        }
       ],
       "layout": {
        "barmode": "relative",
        "legend": {
         "tracegroupgap": 0
        },
        "template": {
         "data": {
          "bar": [
           {
            "error_x": {
             "color": "#2a3f5f"
            },
            "error_y": {
             "color": "#2a3f5f"
            },
            "marker": {
             "line": {
              "color": "#E5ECF6",
              "width": 0.5
             },
             "pattern": {
              "fillmode": "overlay",
              "size": 10,
              "solidity": 0.2
             }
            },
            "type": "bar"
           }
          ],
          "barpolar": [
           {
            "marker": {
             "line": {
              "color": "#E5ECF6",
              "width": 0.5
             },
             "pattern": {
              "fillmode": "overlay",
              "size": 10,
              "solidity": 0.2
             }
            },
            "type": "barpolar"
           }
          ],
          "carpet": [
           {
            "aaxis": {
             "endlinecolor": "#2a3f5f",
             "gridcolor": "white",
             "linecolor": "white",
             "minorgridcolor": "white",
             "startlinecolor": "#2a3f5f"
            },
            "baxis": {
             "endlinecolor": "#2a3f5f",
             "gridcolor": "white",
             "linecolor": "white",
             "minorgridcolor": "white",
             "startlinecolor": "#2a3f5f"
            },
            "type": "carpet"
           }
          ],
          "choropleth": [
           {
            "colorbar": {
             "outlinewidth": 0,
             "ticks": ""
            },
            "type": "choropleth"
           }
          ],
          "contour": [
           {
            "colorbar": {
             "outlinewidth": 0,
             "ticks": ""
            },
            "colorscale": [
             [
              0,
              "#0d0887"
             ],
             [
              0.1111111111111111,
              "#46039f"
             ],
             [
              0.2222222222222222,
              "#7201a8"
             ],
             [
              0.3333333333333333,
              "#9c179e"
             ],
             [
              0.4444444444444444,
              "#bd3786"
             ],
             [
              0.5555555555555556,
              "#d8576b"
             ],
             [
              0.6666666666666666,
              "#ed7953"
             ],
             [
              0.7777777777777778,
              "#fb9f3a"
             ],
             [
              0.8888888888888888,
              "#fdca26"
             ],
             [
              1,
              "#f0f921"
             ]
            ],
            "type": "contour"
           }
          ],
          "contourcarpet": [
           {
            "colorbar": {
             "outlinewidth": 0,
             "ticks": ""
            },
            "type": "contourcarpet"
           }
          ],
          "heatmap": [
           {
            "colorbar": {
             "outlinewidth": 0,
             "ticks": ""
            },
            "colorscale": [
             [
              0,
              "#0d0887"
             ],
             [
              0.1111111111111111,
              "#46039f"
             ],
             [
              0.2222222222222222,
              "#7201a8"
             ],
             [
              0.3333333333333333,
              "#9c179e"
             ],
             [
              0.4444444444444444,
              "#bd3786"
             ],
             [
              0.5555555555555556,
              "#d8576b"
             ],
             [
              0.6666666666666666,
              "#ed7953"
             ],
             [
              0.7777777777777778,
              "#fb9f3a"
             ],
             [
              0.8888888888888888,
              "#fdca26"
             ],
             [
              1,
              "#f0f921"
             ]
            ],
            "type": "heatmap"
           }
          ],
          "heatmapgl": [
           {
            "colorbar": {
             "outlinewidth": 0,
             "ticks": ""
            },
            "colorscale": [
             [
              0,
              "#0d0887"
             ],
             [
              0.1111111111111111,
              "#46039f"
             ],
             [
              0.2222222222222222,
              "#7201a8"
             ],
             [
              0.3333333333333333,
              "#9c179e"
             ],
             [
              0.4444444444444444,
              "#bd3786"
             ],
             [
              0.5555555555555556,
              "#d8576b"
             ],
             [
              0.6666666666666666,
              "#ed7953"
             ],
             [
              0.7777777777777778,
              "#fb9f3a"
             ],
             [
              0.8888888888888888,
              "#fdca26"
             ],
             [
              1,
              "#f0f921"
             ]
            ],
            "type": "heatmapgl"
           }
          ],
          "histogram": [
           {
            "marker": {
             "pattern": {
              "fillmode": "overlay",
              "size": 10,
              "solidity": 0.2
             }
            },
            "type": "histogram"
           }
          ],
          "histogram2d": [
           {
            "colorbar": {
             "outlinewidth": 0,
             "ticks": ""
            },
            "colorscale": [
             [
              0,
              "#0d0887"
             ],
             [
              0.1111111111111111,
              "#46039f"
             ],
             [
              0.2222222222222222,
              "#7201a8"
             ],
             [
              0.3333333333333333,
              "#9c179e"
             ],
             [
              0.4444444444444444,
              "#bd3786"
             ],
             [
              0.5555555555555556,
              "#d8576b"
             ],
             [
              0.6666666666666666,
              "#ed7953"
             ],
             [
              0.7777777777777778,
              "#fb9f3a"
             ],
             [
              0.8888888888888888,
              "#fdca26"
             ],
             [
              1,
              "#f0f921"
             ]
            ],
            "type": "histogram2d"
           }
          ],
          "histogram2dcontour": [
           {
            "colorbar": {
             "outlinewidth": 0,
             "ticks": ""
            },
            "colorscale": [
             [
              0,
              "#0d0887"
             ],
             [
              0.1111111111111111,
              "#46039f"
             ],
             [
              0.2222222222222222,
              "#7201a8"
             ],
             [
              0.3333333333333333,
              "#9c179e"
             ],
             [
              0.4444444444444444,
              "#bd3786"
             ],
             [
              0.5555555555555556,
              "#d8576b"
             ],
             [
              0.6666666666666666,
              "#ed7953"
             ],
             [
              0.7777777777777778,
              "#fb9f3a"
             ],
             [
              0.8888888888888888,
              "#fdca26"
             ],
             [
              1,
              "#f0f921"
             ]
            ],
            "type": "histogram2dcontour"
           }
          ],
          "mesh3d": [
           {
            "colorbar": {
             "outlinewidth": 0,
             "ticks": ""
            },
            "type": "mesh3d"
           }
          ],
          "parcoords": [
           {
            "line": {
             "colorbar": {
              "outlinewidth": 0,
              "ticks": ""
             }
            },
            "type": "parcoords"
           }
          ],
          "pie": [
           {
            "automargin": true,
            "type": "pie"
           }
          ],
          "scatter": [
           {
            "fillpattern": {
             "fillmode": "overlay",
             "size": 10,
             "solidity": 0.2
            },
            "type": "scatter"
           }
          ],
          "scatter3d": [
           {
            "line": {
             "colorbar": {
              "outlinewidth": 0,
              "ticks": ""
             }
            },
            "marker": {
             "colorbar": {
              "outlinewidth": 0,
              "ticks": ""
             }
            },
            "type": "scatter3d"
           }
          ],
          "scattercarpet": [
           {
            "marker": {
             "colorbar": {
              "outlinewidth": 0,
              "ticks": ""
             }
            },
            "type": "scattercarpet"
           }
          ],
          "scattergeo": [
           {
            "marker": {
             "colorbar": {
              "outlinewidth": 0,
              "ticks": ""
             }
            },
            "type": "scattergeo"
           }
          ],
          "scattergl": [
           {
            "marker": {
             "colorbar": {
              "outlinewidth": 0,
              "ticks": ""
             }
            },
            "type": "scattergl"
           }
          ],
          "scattermapbox": [
           {
            "marker": {
             "colorbar": {
              "outlinewidth": 0,
              "ticks": ""
             }
            },
            "type": "scattermapbox"
           }
          ],
          "scatterpolar": [
           {
            "marker": {
             "colorbar": {
              "outlinewidth": 0,
              "ticks": ""
             }
            },
            "type": "scatterpolar"
           }
          ],
          "scatterpolargl": [
           {
            "marker": {
             "colorbar": {
              "outlinewidth": 0,
              "ticks": ""
             }
            },
            "type": "scatterpolargl"
           }
          ],
          "scatterternary": [
           {
            "marker": {
             "colorbar": {
              "outlinewidth": 0,
              "ticks": ""
             }
            },
            "type": "scatterternary"
           }
          ],
          "surface": [
           {
            "colorbar": {
             "outlinewidth": 0,
             "ticks": ""
            },
            "colorscale": [
             [
              0,
              "#0d0887"
             ],
             [
              0.1111111111111111,
              "#46039f"
             ],
             [
              0.2222222222222222,
              "#7201a8"
             ],
             [
              0.3333333333333333,
              "#9c179e"
             ],
             [
              0.4444444444444444,
              "#bd3786"
             ],
             [
              0.5555555555555556,
              "#d8576b"
             ],
             [
              0.6666666666666666,
              "#ed7953"
             ],
             [
              0.7777777777777778,
              "#fb9f3a"
             ],
             [
              0.8888888888888888,
              "#fdca26"
             ],
             [
              1,
              "#f0f921"
             ]
            ],
            "type": "surface"
           }
          ],
          "table": [
           {
            "cells": {
             "fill": {
              "color": "#EBF0F8"
             },
             "line": {
              "color": "white"
             }
            },
            "header": {
             "fill": {
              "color": "#C8D4E3"
             },
             "line": {
              "color": "white"
             }
            },
            "type": "table"
           }
          ]
         },
         "layout": {
          "annotationdefaults": {
           "arrowcolor": "#2a3f5f",
           "arrowhead": 0,
           "arrowwidth": 1
          },
          "autotypenumbers": "strict",
          "coloraxis": {
           "colorbar": {
            "outlinewidth": 0,
            "ticks": ""
           }
          },
          "colorscale": {
           "diverging": [
            [
             0,
             "#8e0152"
            ],
            [
             0.1,
             "#c51b7d"
            ],
            [
             0.2,
             "#de77ae"
            ],
            [
             0.3,
             "#f1b6da"
            ],
            [
             0.4,
             "#fde0ef"
            ],
            [
             0.5,
             "#f7f7f7"
            ],
            [
             0.6,
             "#e6f5d0"
            ],
            [
             0.7,
             "#b8e186"
            ],
            [
             0.8,
             "#7fbc41"
            ],
            [
             0.9,
             "#4d9221"
            ],
            [
             1,
             "#276419"
            ]
           ],
           "sequential": [
            [
             0,
             "#0d0887"
            ],
            [
             0.1111111111111111,
             "#46039f"
            ],
            [
             0.2222222222222222,
             "#7201a8"
            ],
            [
             0.3333333333333333,
             "#9c179e"
            ],
            [
             0.4444444444444444,
             "#bd3786"
            ],
            [
             0.5555555555555556,
             "#d8576b"
            ],
            [
             0.6666666666666666,
             "#ed7953"
            ],
            [
             0.7777777777777778,
             "#fb9f3a"
            ],
            [
             0.8888888888888888,
             "#fdca26"
            ],
            [
             1,
             "#f0f921"
            ]
           ],
           "sequentialminus": [
            [
             0,
             "#0d0887"
            ],
            [
             0.1111111111111111,
             "#46039f"
            ],
            [
             0.2222222222222222,
             "#7201a8"
            ],
            [
             0.3333333333333333,
             "#9c179e"
            ],
            [
             0.4444444444444444,
             "#bd3786"
            ],
            [
             0.5555555555555556,
             "#d8576b"
            ],
            [
             0.6666666666666666,
             "#ed7953"
            ],
            [
             0.7777777777777778,
             "#fb9f3a"
            ],
            [
             0.8888888888888888,
             "#fdca26"
            ],
            [
             1,
             "#f0f921"
            ]
           ]
          },
          "colorway": [
           "#636efa",
           "#EF553B",
           "#00cc96",
           "#ab63fa",
           "#FFA15A",
           "#19d3f3",
           "#FF6692",
           "#B6E880",
           "#FF97FF",
           "#FECB52"
          ],
          "font": {
           "color": "#2a3f5f"
          },
          "geo": {
           "bgcolor": "white",
           "lakecolor": "white",
           "landcolor": "#E5ECF6",
           "showlakes": true,
           "showland": true,
           "subunitcolor": "white"
          },
          "hoverlabel": {
           "align": "left"
          },
          "hovermode": "closest",
          "mapbox": {
           "style": "light"
          },
          "paper_bgcolor": "white",
          "plot_bgcolor": "#E5ECF6",
          "polar": {
           "angularaxis": {
            "gridcolor": "white",
            "linecolor": "white",
            "ticks": ""
           },
           "bgcolor": "#E5ECF6",
           "radialaxis": {
            "gridcolor": "white",
            "linecolor": "white",
            "ticks": ""
           }
          },
          "scene": {
           "xaxis": {
            "backgroundcolor": "#E5ECF6",
            "gridcolor": "white",
            "gridwidth": 2,
            "linecolor": "white",
            "showbackground": true,
            "ticks": "",
            "zerolinecolor": "white"
           },
           "yaxis": {
            "backgroundcolor": "#E5ECF6",
            "gridcolor": "white",
            "gridwidth": 2,
            "linecolor": "white",
            "showbackground": true,
            "ticks": "",
            "zerolinecolor": "white"
           },
           "zaxis": {
            "backgroundcolor": "#E5ECF6",
            "gridcolor": "white",
            "gridwidth": 2,
            "linecolor": "white",
            "showbackground": true,
            "ticks": "",
            "zerolinecolor": "white"
           }
          },
          "shapedefaults": {
           "line": {
            "color": "#2a3f5f"
           }
          },
          "ternary": {
           "aaxis": {
            "gridcolor": "white",
            "linecolor": "white",
            "ticks": ""
           },
           "baxis": {
            "gridcolor": "white",
            "linecolor": "white",
            "ticks": ""
           },
           "bgcolor": "#E5ECF6",
           "caxis": {
            "gridcolor": "white",
            "linecolor": "white",
            "ticks": ""
           }
          },
          "title": {
           "x": 0.05
          },
          "xaxis": {
           "automargin": true,
           "gridcolor": "white",
           "linecolor": "white",
           "ticks": "",
           "title": {
            "standoff": 15
           },
           "zerolinecolor": "white",
           "zerolinewidth": 2
          },
          "yaxis": {
           "automargin": true,
           "gridcolor": "white",
           "linecolor": "white",
           "ticks": "",
           "title": {
            "standoff": 15
           },
           "zerolinecolor": "white",
           "zerolinewidth": 2
          }
         }
        },
        "title": {
         "text": "Times que mais possuem arremessos convertidos"
        },
        "xaxis": {
         "anchor": "y",
         "domain": [
          0,
          1
         ],
         "title": {
          "text": "Times"
         }
        },
        "yaxis": {
         "anchor": "x",
         "domain": [
          0,
          1
         ],
         "range": [
          3000,
          4000
         ],
         "title": {
          "text": "Número de arremessos convertidos"
         }
        }
       }
      }
     },
     "metadata": {},
     "output_type": "display_data"
    }
   ],
   "source": [
    "## E os que menos possuem arremessos convertidos?\n",
    "\n",
    "fig = px.bar(fga[fga[\"MADE\"] == 1].value_counts('TEAM').tail(5), x=fga[fga[\"MADE\"] == 1].value_counts('TEAM').tail(5).index, y=fga[fga[\"MADE\"] == 1].value_counts('TEAM').tail(5).values, title='Times que mais possuem arremessos convertidos')\n",
    "fig.update_layout(xaxis_title=\"Times\", yaxis_title=\"Número de arremessos convertidos\")\n",
    "fig.update_yaxes(range=[3000, 4000])\n",
    "fig.update_traces(texttemplate='%{value}', textposition='outside')\n",
    "fig.show()"
   ]
  },
  {
   "cell_type": "code",
   "execution_count": 116,
   "metadata": {},
   "outputs": [
    {
     "data": {
      "text/plain": [
       "TEAM\n",
       "Denver Nuggets            50.42%\n",
       "Sacramento Kings          49.41%\n",
       "Minnesota Timberwolves    49.04%\n",
       "Chicago Bulls             49.02%\n",
       "Cleveland Cavaliers       48.80%\n",
       "dtype: object"
      ]
     },
     "execution_count": 116,
     "metadata": {},
     "output_type": "execute_result"
    }
   ],
   "source": [
    "## Quais são os times com maior taxa de acerto nos arremessos?\n",
    "\n",
    "(fga[fga[\"MADE\"] == 1].value_counts('TEAM') / fga.value_counts('TEAM')).sort_values(ascending=False).head(5).map('{:.2%}'.format)"
   ]
  },
  {
   "cell_type": "code",
   "execution_count": 117,
   "metadata": {},
   "outputs": [
    {
     "data": {
      "text/plain": [
       "TEAM\n",
       "Detroit Pistons      54.57%\n",
       "Charlotte Hornets    54.34%\n",
       "Houston Rockets      54.32%\n",
       "Toronto Raptors      54.15%\n",
       "Miami Heat           54.01%\n",
       "dtype: object"
      ]
     },
     "execution_count": 117,
     "metadata": {},
     "output_type": "execute_result"
    }
   ],
   "source": [
    "## Quais são os times com maior taxa de erro nos arremessos?\n",
    "\n",
    "(fga[fga[\"MADE\"] == 0].value_counts('TEAM') / fga.value_counts('TEAM')).sort_values(ascending=False).head(5).map('{:.2%}'.format)"
   ]
  },
  {
   "cell_type": "code",
   "execution_count": 118,
   "metadata": {},
   "outputs": [],
   "source": [
    "## 9) Retirar a coluna \"TEAM\", ela não tem mais uso daqui em diante\n",
    "fga.drop('TEAM', axis='columns', inplace=True)"
   ]
  },
  {
   "cell_type": "markdown",
   "metadata": {},
   "source": [
    "## Dataset após a análise exploratória e tratamento dos dados"
   ]
  },
  {
   "cell_type": "code",
   "execution_count": 119,
   "metadata": {},
   "outputs": [
    {
     "name": "stdout",
     "output_type": "stream",
     "text": [
      "Shape: (209626, 13)\n"
     ]
    },
    {
     "data": {
      "text/html": [
       "<div>\n",
       "<style scoped>\n",
       "    .dataframe tbody tr th:only-of-type {\n",
       "        vertical-align: middle;\n",
       "    }\n",
       "\n",
       "    .dataframe tbody tr th {\n",
       "        vertical-align: top;\n",
       "    }\n",
       "\n",
       "    .dataframe thead th {\n",
       "        text-align: right;\n",
       "    }\n",
       "</style>\n",
       "<table border=\"1\" class=\"dataframe\">\n",
       "  <thead>\n",
       "    <tr style=\"text-align: right;\">\n",
       "      <th></th>\n",
       "      <th>MADE</th>\n",
       "      <th>SHOT TYPE</th>\n",
       "      <th>PERIOD</th>\n",
       "      <th>TIME REMAINING</th>\n",
       "      <th>SHOT DISTANCE (FT)</th>\n",
       "      <th>is_home</th>\n",
       "      <th>off_win_rate</th>\n",
       "      <th>def_blocks</th>\n",
       "      <th>def_win_rate</th>\n",
       "      <th>Age</th>\n",
       "      <th>Height</th>\n",
       "      <th>Weight</th>\n",
       "      <th>DRAFT NUMBER</th>\n",
       "    </tr>\n",
       "  </thead>\n",
       "  <tbody>\n",
       "    <tr>\n",
       "      <th>0</th>\n",
       "      <td>1</td>\n",
       "      <td>2</td>\n",
       "      <td>1</td>\n",
       "      <td>675</td>\n",
       "      <td>13</td>\n",
       "      <td>1</td>\n",
       "      <td>0.621951</td>\n",
       "      <td>435</td>\n",
       "      <td>0.621951</td>\n",
       "      <td>29</td>\n",
       "      <td>195.072</td>\n",
       "      <td>100.0</td>\n",
       "      <td>6</td>\n",
       "    </tr>\n",
       "    <tr>\n",
       "      <th>1</th>\n",
       "      <td>0</td>\n",
       "      <td>3</td>\n",
       "      <td>1</td>\n",
       "      <td>402</td>\n",
       "      <td>22</td>\n",
       "      <td>1</td>\n",
       "      <td>0.621951</td>\n",
       "      <td>435</td>\n",
       "      <td>0.621951</td>\n",
       "      <td>29</td>\n",
       "      <td>195.072</td>\n",
       "      <td>100.0</td>\n",
       "      <td>6</td>\n",
       "    </tr>\n",
       "    <tr>\n",
       "      <th>2</th>\n",
       "      <td>0</td>\n",
       "      <td>2</td>\n",
       "      <td>1</td>\n",
       "      <td>205</td>\n",
       "      <td>6</td>\n",
       "      <td>1</td>\n",
       "      <td>0.621951</td>\n",
       "      <td>435</td>\n",
       "      <td>0.621951</td>\n",
       "      <td>29</td>\n",
       "      <td>195.072</td>\n",
       "      <td>100.0</td>\n",
       "      <td>6</td>\n",
       "    </tr>\n",
       "    <tr>\n",
       "      <th>3</th>\n",
       "      <td>1</td>\n",
       "      <td>2</td>\n",
       "      <td>2</td>\n",
       "      <td>453</td>\n",
       "      <td>9</td>\n",
       "      <td>1</td>\n",
       "      <td>0.621951</td>\n",
       "      <td>435</td>\n",
       "      <td>0.621951</td>\n",
       "      <td>29</td>\n",
       "      <td>195.072</td>\n",
       "      <td>100.0</td>\n",
       "      <td>6</td>\n",
       "    </tr>\n",
       "    <tr>\n",
       "      <th>4</th>\n",
       "      <td>0</td>\n",
       "      <td>2</td>\n",
       "      <td>2</td>\n",
       "      <td>393</td>\n",
       "      <td>6</td>\n",
       "      <td>1</td>\n",
       "      <td>0.621951</td>\n",
       "      <td>435</td>\n",
       "      <td>0.621951</td>\n",
       "      <td>29</td>\n",
       "      <td>195.072</td>\n",
       "      <td>100.0</td>\n",
       "      <td>6</td>\n",
       "    </tr>\n",
       "  </tbody>\n",
       "</table>\n",
       "</div>"
      ],
      "text/plain": [
       "   MADE  SHOT TYPE  PERIOD  TIME REMAINING  SHOT DISTANCE (FT)  is_home  \\\n",
       "0     1          2       1             675                  13        1   \n",
       "1     0          3       1             402                  22        1   \n",
       "2     0          2       1             205                   6        1   \n",
       "3     1          2       2             453                   9        1   \n",
       "4     0          2       2             393                   6        1   \n",
       "\n",
       "   off_win_rate  def_blocks  def_win_rate  Age   Height  Weight  DRAFT NUMBER  \n",
       "0      0.621951         435      0.621951   29  195.072   100.0             6  \n",
       "1      0.621951         435      0.621951   29  195.072   100.0             6  \n",
       "2      0.621951         435      0.621951   29  195.072   100.0             6  \n",
       "3      0.621951         435      0.621951   29  195.072   100.0             6  \n",
       "4      0.621951         435      0.621951   29  195.072   100.0             6  "
      ]
     },
     "execution_count": 119,
     "metadata": {},
     "output_type": "execute_result"
    }
   ],
   "source": [
    "print(f\"Shape: {fga.shape}\")\n",
    "fga.head()"
   ]
  },
  {
   "cell_type": "code",
   "execution_count": 120,
   "metadata": {},
   "outputs": [],
   "source": [
    "import matplotlib.pyplot as plt\n",
    "import seaborn as sns\n",
    "import pandas as pd\n",
    "import numpy as np\n",
    "import matplotlib\n",
    "import sklearn\n",
    "import keras\n",
    "import sys\n",
    "\n",
    "from pandas.plotting import scatter_matrix\n",
    "from keras.models import Sequential\n",
    "from sklearn import model_selection\n",
    "from keras.layers import Dense\n",
    "from keras import regularizers\n",
    "from keras import optimizers\n"
   ]
  }
 ],
 "metadata": {
  "kernelspec": {
   "display_name": "Python 3",
   "language": "python",
   "name": "python3"
  },
  "language_info": {
   "codemirror_mode": {
    "name": "ipython",
    "version": 3
   },
   "file_extension": ".py",
   "mimetype": "text/x-python",
   "name": "python",
   "nbconvert_exporter": "python",
   "pygments_lexer": "ipython3",
   "version": "3.10.5"
  }
 },
 "nbformat": 4,
 "nbformat_minor": 2
}
