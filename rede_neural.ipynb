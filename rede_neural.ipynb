{
 "cells": [
  {
   "cell_type": "code",
   "execution_count": null,
   "metadata": {},
   "outputs": [],
   "source": [
    "import matplotlib.pyplot as plt\n",
    "import seaborn as sns\n",
    "import pandas as pd\n",
    "import numpy as np\n",
    "import matplotlib\n",
    "import sklearn\n",
    "import keras\n",
    "import sys\n",
    "\n",
    "from pandas.plotting import scatter_matrix\n",
    "from sklearn.metrics import accuracy_score\n",
    "from keras.models import Sequential\n",
    "from sklearn import model_selection\n",
    "from keras.layers import Dense\n",
    "from keras import regularizers\n",
    "from keras import optimizers"
   ]
  },
  {
   "cell_type": "code",
   "execution_count": null,
   "metadata": {},
   "outputs": [],
   "source": [
    "data = pd.read_csv('dados.csv', sep=',')\n",
    "X = np.array(data.drop(['MADE'], axis=1))\n",
    "y = np.array(data['MADE'])"
   ]
  },
  {
   "cell_type": "markdown",
   "metadata": {},
   "source": [
    "## Rede Neural"
   ]
  },
  {
   "cell_type": "markdown",
   "metadata": {},
   "source": [
    "### Criando a rede neural"
   ]
  },
  {
   "cell_type": "code",
   "execution_count": null,
   "metadata": {},
   "outputs": [],
   "source": [
    "from keras.callbacks import EarlyStopping\n",
    "\n",
    "X_train, X_test, y_train, y_test = model_selection.train_test_split(X, y, random_state=2, test_size=0.2)\n",
    "\n",
    "# Criando a arquitetura da rede neural\n",
    "model = Sequential()\n",
    "\n",
    "# Rede configurada a partir de informações da dimensão VC e da regra de ouro\n",
    "#model.add(Dense(5, input_dim=12, kernel_initializer='normal',  activation='tanh'))\n",
    "model.add(Dense(5, input_dim=12, kernel_initializer='normal', kernel_regularizer=regularizers.l2(0.01), activation='relu'))\n",
    "model.add(Dense(1, kernel_initializer='normal', activation='sigmoid'))\n",
    "\n",
    "# Early stopping\n",
    "es = EarlyStopping(monitor='val_loss', mode='min', verbose=1, patience=20)\n",
    "\n",
    "# Instanciação e configuração de otimizadores\n",
    "sgd = optimizers.SGD(learning_rate=0.01)\n",
    "\n",
    "# Compila o modelo. O otimizador escolhido foi o Adam com os parâmetros default\n",
    "model.compile(loss='binary_crossentropy', optimizer=\"adam\", metrics=['accuracy'])\n",
    "\n",
    "print(model.summary())"
   ]
  },
  {
   "cell_type": "markdown",
   "metadata": {},
   "source": [
    "### Treinando a rede neural"
   ]
  },
  {
   "cell_type": "code",
   "execution_count": null,
   "metadata": {},
   "outputs": [],
   "source": [
    "# 167700 exemplos no 'X_train', para calcular a quantidade mínima de neurônios com base na regra de ouro:\n",
    "# n <= ( (167700 - 10) / (10*(12+2) ) )  --> n <= 1197"
   ]
  },
  {
   "cell_type": "code",
   "execution_count": null,
   "metadata": {},
   "outputs": [],
   "source": [
    "BATCH_SIZE = 32\n",
    "\n",
    "X_train, X_val, y_train, y_val = model_selection.train_test_split(X_train, y_train, random_state=2, test_size=0.2)\n",
    "\n",
    "# Treinamento SEM Early Stopping\n",
    "#history = model.fit(X_train, y_train, validation_data=(X_val, y_val), epochs=10, batch_size=BATCH_SIZE)\n",
    "\n",
    "# Treinamento COM Early Stopping\n",
    "history = model.fit(X_train, y_train, validation_data=(X_test, y_test), epochs=10, batch_size=BATCH_SIZE, callbacks=[es])\n"
   ]
  },
  {
   "cell_type": "markdown",
   "metadata": {},
   "source": [
    "### Performance do modelo"
   ]
  },
  {
   "cell_type": "code",
   "execution_count": null,
   "metadata": {},
   "outputs": [],
   "source": [
    "plt.plot(history.history['loss'])\n",
    "plt.plot(history.history['val_loss'])\n",
    "plt.title('Metrica de erro')\n",
    "plt.ylabel('Erro')\n",
    "plt.xlabel('Epoca')\n",
    "plt.legend(['Treinamento', 'Validacao'])\n",
    "plt.show()\n",
    "\n",
    "pred = np.round(model.predict(X_test))\n",
    "pred_train = np.round(model.predict(X_train))\n",
    "\n",
    "print(f'--> Acuracia (train): {accuracy_score(y_train, pred_train):.4f}')\n",
    "print(f'--> Acuracia (test): {accuracy_score(y_test, pred):.4f}')"
   ]
  }
 ],
 "metadata": {
  "language_info": {
   "name": "python"
  }
 },
 "nbformat": 4,
 "nbformat_minor": 2
}
