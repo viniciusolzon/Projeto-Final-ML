{
 "cells": [
  {
   "cell_type": "code",
   "execution_count": 70,
   "metadata": {},
   "outputs": [],
   "source": [
    "import matplotlib.pyplot as plt\n",
    "import seaborn as sns\n",
    "import pandas as pd\n",
    "import numpy as np\n",
    "import matplotlib\n",
    "import sklearn\n",
    "import keras\n",
    "import sys\n",
    "    \n",
    "from sklearn.feature_extraction.text import CountVectorizer\n",
    "from sklearn.model_selection import cross_val_score\n",
    "from sklearn.metrics import classification_report\n",
    "from sklearn.metrics import accuracy_score\n",
    "from pandas.plotting import scatter_matrix\n",
    "from sklearn.model_selection import KFold\n",
    "from keras.models import Sequential\n",
    "from sklearn import model_selection\n",
    "from keras.layers import Dense\n",
    "from keras import regularizers\n",
    "from keras import optimizers\n",
    "from sklearn.svm import SVC"
   ]
  },
  {
   "cell_type": "markdown",
   "metadata": {},
   "source": [
    "### Dividindo X e Y para o modelo"
   ]
  },
  {
   "cell_type": "code",
   "execution_count": 71,
   "metadata": {},
   "outputs": [],
   "source": [
    "data = pd.read_csv('dados.csv', sep=',')\n",
    "X = np.array(data.drop(['MADE'], axis=1))\n",
    "y = np.array(data['MADE'])"
   ]
  },
  {
   "cell_type": "markdown",
   "metadata": {},
   "source": [
    "### Dividindo os dados de treino e teste"
   ]
  },
  {
   "cell_type": "code",
   "execution_count": 72,
   "metadata": {},
   "outputs": [],
   "source": [
    "X_train, X_test, y_train, y_test = model_selection.train_test_split(X, y, random_state=23, test_size=0.2)"
   ]
  },
  {
   "cell_type": "markdown",
   "metadata": {},
   "source": [
    "### Dividindo os dados de treino para validação"
   ]
  },
  {
   "cell_type": "code",
   "execution_count": 73,
   "metadata": {},
   "outputs": [],
   "source": [
    "X_train, X_val, y_train, y_val = model_selection.train_test_split(X_train, y_train, random_state=23, test_size=0.2)"
   ]
  },
  {
   "cell_type": "markdown",
   "metadata": {},
   "source": [
    "## Rede Neural"
   ]
  },
  {
   "cell_type": "markdown",
   "metadata": {},
   "source": [
    "### Criando a rede neural"
   ]
  },
  {
   "cell_type": "code",
   "execution_count": 74,
   "metadata": {},
   "outputs": [
    {
     "name": "stdout",
     "output_type": "stream",
     "text": [
      "Model: \"sequential_12\"\n",
      "_________________________________________________________________\n",
      " Layer (type)                Output Shape              Param #   \n",
      "=================================================================\n",
      " dense_22 (Dense)            (None, 60)                780       \n",
      "                                                                 \n",
      " dense_23 (Dense)            (None, 1)                 61        \n",
      "                                                                 \n",
      "=================================================================\n",
      "Total params: 841 (3.29 KB)\n",
      "Trainable params: 841 (3.29 KB)\n",
      "Non-trainable params: 0 (0.00 Byte)\n",
      "_________________________________________________________________\n"
     ]
    }
   ],
   "source": [
    "model = Sequential()\n",
    "model.add(Dense(60, input_dim=12, activation='relu', use_bias = True, bias_initializer='ones')) #camda de entrada\n",
    "model.add(Dense(1, activation='sigmoid'))# camada de saída\n",
    "\n",
    "model.compile(loss='binary_crossentropy',optimizer='adam', metrics=['accuracy'])\n",
    "model.summary()"
   ]
  },
  {
   "cell_type": "markdown",
   "metadata": {},
   "source": [
    "### Treinando a rede neural"
   ]
  },
  {
   "cell_type": "code",
   "execution_count": 75,
   "metadata": {},
   "outputs": [
    {
     "name": "stdout",
     "output_type": "stream",
     "text": [
      "Epoch 1/10\n"
     ]
    },
    {
     "name": "stdout",
     "output_type": "stream",
     "text": [
      "8385/8385 [==============================] - 9s 1ms/step - loss: 0.9313 - accuracy: 0.5442 - val_loss: 0.7553 - val_accuracy: 0.5415\n",
      "Epoch 2/10\n",
      "8385/8385 [==============================] - 8s 910us/step - loss: 0.8058 - accuracy: 0.5546 - val_loss: 0.6819 - val_accuracy: 0.5852\n",
      "Epoch 3/10\n",
      "8385/8385 [==============================] - 7s 878us/step - loss: 0.7639 - accuracy: 0.5578 - val_loss: 0.6720 - val_accuracy: 0.6003\n",
      "Epoch 4/10\n",
      "8385/8385 [==============================] - 7s 841us/step - loss: 0.7243 - accuracy: 0.5675 - val_loss: 0.7197 - val_accuracy: 0.5680\n",
      "Epoch 5/10\n",
      "8385/8385 [==============================] - 7s 812us/step - loss: 0.7050 - accuracy: 0.5747 - val_loss: 0.7851 - val_accuracy: 0.4917\n",
      "Epoch 6/10\n",
      "8385/8385 [==============================] - 7s 822us/step - loss: 0.6922 - accuracy: 0.5803 - val_loss: 0.6708 - val_accuracy: 0.5979\n",
      "Epoch 7/10\n",
      "8385/8385 [==============================] - 7s 822us/step - loss: 0.6813 - accuracy: 0.5895 - val_loss: 0.6679 - val_accuracy: 0.5994\n",
      "Epoch 8/10\n",
      "8385/8385 [==============================] - 7s 830us/step - loss: 0.6719 - accuracy: 0.5964 - val_loss: 0.6642 - val_accuracy: 0.6006\n",
      "Epoch 9/10\n",
      "8385/8385 [==============================] - 7s 862us/step - loss: 0.6658 - accuracy: 0.6054 - val_loss: 0.6593 - val_accuracy: 0.6134\n",
      "Epoch 10/10\n",
      "8385/8385 [==============================] - 7s 848us/step - loss: 0.6578 - accuracy: 0.6195 - val_loss: 0.6551 - val_accuracy: 0.6229\n"
     ]
    }
   ],
   "source": [
    "history = model.fit(X_train, y_train, validation_data=(X_val, y_val), epochs=10, batch_size=16)"
   ]
  },
  {
   "cell_type": "code",
   "execution_count": 76,
   "metadata": {},
   "outputs": [
    {
     "name": "stdout",
     "output_type": "stream",
     "text": [
      "Ein: 0.3785\n",
      "Eout: 0.3777\n"
     ]
    }
   ],
   "source": [
    "loss, accuracy = model.evaluate(X_train, y_train, verbose=False)\n",
    "print('Ein: %0.4f' % (1 - accuracy))\n",
    "loss, accuracy = model.evaluate(X_test, y_test, verbose=False)\n",
    "print('Eout: %0.4f' % (1 - accuracy))"
   ]
  },
  {
   "cell_type": "code",
   "execution_count": 77,
   "metadata": {},
   "outputs": [
    {
     "name": "stdout",
     "output_type": "stream",
     "text": [
      "Acurácia de treino: 0.6215\n",
      "Acurácia de teste: 0.6223\n"
     ]
    }
   ],
   "source": [
    "loss, accuracy = model.evaluate(X_train, y_train, verbose=False)\n",
    "print('Acurácia de treino: %0.4f' % (accuracy))\n",
    "loss, accuracy = model.evaluate(X_test, y_test, verbose=False)\n",
    "print('Acurácia de teste: %0.4f' % (accuracy))"
   ]
  },
  {
   "cell_type": "markdown",
   "metadata": {},
   "source": [
    "### Performance do modelo"
   ]
  },
  {
   "cell_type": "code",
   "execution_count": 79,
   "metadata": {},
   "outputs": [
    {
     "data": {
      "image/png": "[encoded data removed]",
      "text/plain": [
       "<Figure size 432x288 with 1 Axes>"
      ]
     },
     "metadata": {},
     "output_type": "display_data"
    },
    {
     "name": "stdout",
     "output_type": "stream",
     "text": [
      "1311/1311 [==============================] - 1s 648us/step\n",
      "4193/4193 [==============================] - 2s 536us/step\n",
      "--> Acuracia (train): 0.6215\n",
      "--> Acuracia (test): 0.6223\n"
     ]
    }
   ],
   "source": [
    "plt.plot(history.history['loss'])\n",
    "plt.plot(history.history['val_loss'])\n",
    "plt.title('Metrica de erro')\n",
    "plt.ylabel('Erro')\n",
    "plt.xlabel('Epoca')\n",
    "plt.legend(['Treinamento', 'Validacao'])\n",
    "plt.show()\n",
    "\n",
    "pred = np.round(model.predict(X_test))\n",
    "pred_train = np.round(model.predict(X_train))\n",
    "\n",
    "print(f'--> Acuracia (train): {accuracy_score(y_train, pred_train):.4f}')\n",
    "print(f'--> Acuracia (test): {accuracy_score(y_test, pred):.4f}')"
   ]
  }
 ],
 "metadata": {
  "kernelspec": {
   "display_name": "Python 3",
   "language": "python",
   "name": "python3"
  },
  "language_info": {
   "codemirror_mode": {
    "name": "ipython",
    "version": 3
   },
   "file_extension": ".py",
   "mimetype": "text/x-python",
   "name": "python",
   "nbconvert_exporter": "python",
   "pygments_lexer": "ipython3",
   "version": "3.8.10"
  }
 },
 "nbformat": 4,
 "nbformat_minor": 2
}
